{
 "cells": [
  {
   "cell_type": "code",
   "execution_count": 1,
   "metadata": {},
   "outputs": [],
   "source": [
    "from selenium import webdriver\n",
    "from selenium.webdriver.common.by import By\n",
    "from selenium.webdriver.support.ui import WebDriverWait\n",
    "from selenium.webdriver.support import expected_conditions as EC\n",
    "from selenium.common.exceptions import TimeoutException\n",
    "from bs4 import BeautifulSoup\n",
    "import time\n",
    "import pandas as pd\n"
   ]
  },
  {
   "cell_type": "code",
   "execution_count": 5,
   "metadata": {},
   "outputs": [],
   "source": [
    "df = pd.read_excel('justwatch.xlsx')"
   ]
  },
  {
   "cell_type": "code",
   "execution_count": 6,
   "metadata": {},
   "outputs": [
    {
     "data": {
      "text/html": [
       "<div>\n",
       "<style scoped>\n",
       "    .dataframe tbody tr th:only-of-type {\n",
       "        vertical-align: middle;\n",
       "    }\n",
       "\n",
       "    .dataframe tbody tr th {\n",
       "        vertical-align: top;\n",
       "    }\n",
       "\n",
       "    .dataframe thead th {\n",
       "        text-align: right;\n",
       "    }\n",
       "</style>\n",
       "<table border=\"1\" class=\"dataframe\">\n",
       "  <thead>\n",
       "    <tr style=\"text-align: right;\">\n",
       "      <th></th>\n",
       "      <th>Unnamed: 0</th>\n",
       "      <th>title</th>\n",
       "      <th>original_title</th>\n",
       "      <th>year</th>\n",
       "      <th>season_episode</th>\n",
       "      <th>runtime</th>\n",
       "      <th>genre</th>\n",
       "      <th>age_rating</th>\n",
       "      <th>Production country</th>\n",
       "    </tr>\n",
       "  </thead>\n",
       "  <tbody>\n",
       "    <tr>\n",
       "      <th>1088</th>\n",
       "      <td>1088</td>\n",
       "      <td>대송궁사</td>\n",
       "      <td>大宋宫词</td>\n",
       "      <td>2021</td>\n",
       "      <td>1</td>\n",
       "      <td>45min</td>\n",
       "      <td>드라마</td>\n",
       "      <td>15+</td>\n",
       "      <td>China</td>\n",
       "    </tr>\n",
       "    <tr>\n",
       "      <th>1089</th>\n",
       "      <td>1089</td>\n",
       "      <td>엘리트들, 못다 한 이야기: 나디아 구스만</td>\n",
       "      <td>Elite Histórias Breves: Nadia Guzmán</td>\n",
       "      <td>2021</td>\n",
       "      <td>1</td>\n",
       "      <td>11min</td>\n",
       "      <td>드라마, 로맨스</td>\n",
       "      <td>NaN</td>\n",
       "      <td>스페인</td>\n",
       "    </tr>\n",
       "  </tbody>\n",
       "</table>\n",
       "</div>"
      ],
      "text/plain": [
       "      Unnamed: 0                    title  \\\n",
       "1088        1088                     대송궁사   \n",
       "1089        1089  엘리트들, 못다 한 이야기: 나디아 구스만   \n",
       "\n",
       "                            original_title  year  season_episode runtime  \\\n",
       "1088                                  大宋宫词  2021               1   45min   \n",
       "1089  Elite Histórias Breves: Nadia Guzmán  2021               1   11min   \n",
       "\n",
       "         genre age_rating Production country  \n",
       "1088       드라마        15+              China  \n",
       "1089  드라마, 로맨스        NaN                스페인  "
      ]
     },
     "execution_count": 6,
     "metadata": {},
     "output_type": "execute_result"
    }
   ],
   "source": [
    "df.tail(2)"
   ]
  },
  {
   "cell_type": "code",
   "execution_count": 96,
   "metadata": {},
   "outputs": [],
   "source": [
    "# 크롬 드라이버 설정 및 페이지 열기\n",
    "driver = webdriver.Chrome()\n",
    "driver.get('https://www.imdb.com/?ref_=nv_home')"
   ]
  },
  {
   "cell_type": "code",
   "execution_count": 97,
   "metadata": {},
   "outputs": [],
   "source": [
    "# 크롬 드라이버 설정 및 페이지 열기\n",
    "def driver_chrome(url):\n",
    "    driver = webdriver.Chrome()\n",
    "    driver.get(url)\n",
    "\n",
    "# 메인 페이지 검색 \n",
    "def search_drama(title):\n",
    "    m_search_box  = driver.find_element(By.CSS_SELECTOR, '#suggestion-search')\n",
    "    m_search_box.send_keys(title)\n",
    "\n",
    "# 맨 처음에 뜨는 드라마 선택\n",
    "def first_drama_select():\n",
    "    first_drama_result = WebDriverWait(driver, 10).until(\n",
    "        EC.presence_of_element_located((By.CSS_SELECTOR, '#react-autowhatever-navSuggestionSearch--item-0 > a'))\n",
    "    )\n",
    "    first_drama_result.click()\n",
    "\n",
    "# 첫 번째 페이지에서 디테일 데이터 수집 \n",
    "def first_page_data():\n",
    "\n",
    "    # 페이지 소스 가져오기\n",
    "    page_source = driver.page_source\n",
    "    soup = BeautifulSoup(page_source, 'html.parser')\n",
    "\n",
    "    #디테일 정보 가져오기 \n",
    "    title = soup.select_one('div.sc-491663c0-3.bdjVSf > div.sc-b7c53eda-0.dUpRPQ > h1 > span').text.strip() if soup.select_one('div.sc-491663c0-3.bdjVSf > div.sc-b7c53eda-0.dUpRPQ > h1 > span') else 'N/A'\n",
    "    original_title_o = soup.select_one('div.sc-b7c53eda-0.dUpRPQ > div').text.strip() if soup.select_one('div.sc-b7c53eda-0.dUpRPQ > div') else 'N/A'\n",
    "    original_title = original_title_o.replace('Original title: ', '')\n",
    "    year = soup.select_one('div.sc-b7c53eda-0.dUpRPQ > ul > li:nth-child(2) > a').text.strip() if soup.select_one('div.sc-b7c53eda-0.dUpRPQ > ul > li:nth-child(2) > a') else 'N/A'\n",
    "\n",
    "\n",
    "    "
   ]
  },
  {
   "cell_type": "code",
   "execution_count": 118,
   "metadata": {},
   "outputs": [
    {
     "name": "stdout",
     "output_type": "stream",
     "text": [
      "[{'title': 'La casa de papel', 'original_title': 'N/A', 'year': '2017–2021', 'total_avg_star_rating': '8.2', 'total_number_of_stars': '536K', 'add_to_watchlist_num': '45만'}]\n"
     ]
    }
   ],
   "source": [
    "# 크롬 드라이버 설정 및 페이지 열기\n",
    "driver = webdriver.Chrome()\n",
    "driver.get('https://www.imdb.com/?ref_=nv_home')\n",
    "\n",
    "#justwach에서 크롤링로 얻은 원제를 검색해 데이터 수집 \n",
    "# for ot in df['original_title']\n",
    "\n",
    "first_pages_detail_data = []\n",
    "# 메인 페이지 검색 \n",
    "m_search_box  = driver.find_element(By.CSS_SELECTOR, '#suggestion-search')\n",
    "m_search_box.send_keys('La Casa de Papel')\n",
    "\n",
    "\n",
    "try:\n",
    "    # 맨 처음에 뜨는 드라마 선택\n",
    "    first_drama_result = WebDriverWait(driver, 10).until(\n",
    "        EC.presence_of_element_located((By.CSS_SELECTOR, '#react-autowhatever-navSuggestionSearch--item-0 > a'))\n",
    "    )\n",
    "    first_drama_result.click()\n",
    "\n",
    "\n",
    "    # 첫 번째 페이지에서 디테일 데이터 수집 \n",
    "    # 페이지 소스 가져오기\n",
    "    page_source = driver.page_source\n",
    "    soup = BeautifulSoup(page_source, 'html.parser')\n",
    "\n",
    "    #디테일 정보 가져오기 \n",
    "    title = soup.select_one('div.sc-491663c0-3.bdjVSf > div.sc-b7c53eda-0.dUpRPQ > h1 > span').text.strip() if soup.select_one('div.sc-491663c0-3.bdjVSf > div.sc-b7c53eda-0.dUpRPQ > h1 > span') else 'N/A'\n",
    "    original_title_o = soup.select_one('div.sc-b7c53eda-0.dUpRPQ > div').text.strip() if soup.select_one('div.sc-b7c53eda-0.dUpRPQ > div') else 'N/A'\n",
    "    original_title = original_title_o.replace('Original title: ', '')\n",
    "    year = soup.select_one('div.sc-b7c53eda-0.dUpRPQ > ul > li:nth-child(2) > a').text.strip() if soup.select_one('div.sc-b7c53eda-0.dUpRPQ > ul > li:nth-child(2) > a') else 'N/A'\n",
    "    total_avg_star_rating = soup.select_one('div.sc-bde20123-2.cdQqzc > span.sc-bde20123-1.cMEQkK').text.strip() if soup.select_one('div.sc-bde20123-2.cdQqzc > span.sc-bde20123-1.cMEQkK') else 'N/A'\n",
    "    total_number_of_stars = soup.select_one('div.sc-bde20123-0.dLwiNw > div.sc-bde20123-3.gPVQxL').text.strip() if soup.select_one('div.sc-bde20123-0.dLwiNw > div.sc-bde20123-3.gPVQxL') else 'N/A'\n",
    "    add_to_watchlist = soup.select_one('button.ipc-split-button__btn > div > div.sc-b23676b3-3.bRgISf').text.strip() if soup.select_one('button.ipc-split-button__btn > div > div.sc-b23676b3-3.bRgISf') else 'N/A'\n",
    "    add_to_watchlist_num = add_to_watchlist.split('명의')[0]\n",
    "    \n",
    "    drama_details = {\n",
    "        'title': title,\n",
    "        'original_title': original_title,\n",
    "        'year': year,\n",
    "        'total_avg_star_rating': total_avg_star_rating,\n",
    "        'total_number_of_stars': total_number_of_stars,\n",
    "        'add_to_watchlist_num': add_to_watchlist_num\n",
    "    }\n",
    "\n",
    "    first_pages_detail_data.append(drama_details)\n",
    "\n",
    "    print(first_pages_detail_data)\n",
    "except Exception as e:\n",
    "    print(e)\n"
   ]
  },
  {
   "cell_type": "markdown",
   "metadata": {},
   "source": [
    "---\n",
    "### 시즌별 에피소드 디테일 "
   ]
  },
  {
   "cell_type": "code",
   "execution_count": 119,
   "metadata": {},
   "outputs": [],
   "source": [
    "seasons_data = []\n",
    "\n",
    "# 시즌 셀렉트 박스 찾기\n",
    "try:\n",
    "    season_select_box = WebDriverWait(driver, 10).until(\n",
    "    EC.presence_of_element_located((By.ID, 'browse-episodes-season'))\n",
    "    )\n",
    "except Exception as e:\n",
    "    print(\"No seasons found or element not loaded properly\")\n",
    "    \n",
    "\n",
    "# 'SEE_ALL' 옵션 찾기 및 클릭\n",
    "for option in season_select_box.find_elements(By.TAG_NAME,'option'):\n",
    "    season_num = option.get_attribute('value')\n",
    "\n",
    "    if season_num == 'SEE_ALL':\n",
    "        option.click() \n",
    "        \n",
    "page_source_season = driver.page_source\n",
    "soup_season = BeautifulSoup(page_source_season, 'html.parser')  "
   ]
  },
  {
   "cell_type": "code",
   "execution_count": 120,
   "metadata": {},
   "outputs": [
    {
     "data": {
      "text/plain": [
       "[{'season': 'S1', 'episode': 'E1', 'episode_name': 'Efectuar lo acordado'},\n",
       " {'season': 'S1', 'episode': 'E2', 'episode_name': 'Imprudencias letales'},\n",
       " {'season': 'S1', 'episode': 'E3', 'episode_name': 'Errar al disparar'},\n",
       " {'season': 'S1', 'episode': 'E4', 'episode_name': 'Caballo de Troya'},\n",
       " {'season': 'S1', 'episode': 'E5', 'episode_name': 'El día de la marmota'},\n",
       " {'season': 'S1', 'episode': 'E6', 'episode_name': 'La cálida Guerra Fría'},\n",
       " {'season': 'S1',\n",
       "  'episode': 'E7',\n",
       "  'episode_name': 'Refrigerada inestabilidad'},\n",
       " {'season': 'S1', 'episode': 'E8', 'episode_name': 'Tú lo has buscado'},\n",
       " {'season': 'S1',\n",
       "  'episode': 'E9',\n",
       "  'episode_name': 'El que la sigue la consigue'}]"
      ]
     },
     "execution_count": 120,
     "metadata": {},
     "output_type": "execute_result"
    }
   ],
   "source": [
    "# 시즌 페이지에서 에피소드별 디테일 \n",
    "\n",
    "#시즌 선택 \n",
    "season_num_ul = soup_season.select('#__next > main > div > section > div > section > div > div.sc-978e9339-1.ihWZgK.ipc-page-grid__item.ipc-page-grid__item--span-2 > section:nth-child(2) > section.sc-56501f3b-0.iZwhod > div.ipc-tabs.ipc-tabs--base.ipc-tabs--align-left.ipc-tabs--display-chip.ipc-tabs--inherit > ul')\n",
    "\n",
    "#에피소드 정보 크롤링\n",
    "episodes_data = []\n",
    "\n",
    "# 시즌 별 클릭 \n",
    "# for season in season_select_box.select(By.CSS_SELECTOR, 'div.sc-978e9339-1.ihWZgK.ipc-page-grid__item.ipc-page-grid__item--span-2 > section:nth-child(2) > section.sc-56501f3b-0.iZwhod > div.ipc-tabs.ipc-tabs--base.ipc-tabs--align-left.ipc-tabs--display-chip.ipc-tabs--inherit > ul'):\n",
    "#     print(season)\n",
    "#     season_button = season.find_element(By.TAG_NAME, 'a')\n",
    "#     season_button.click()\n",
    "#     time.sleep(1)\n",
    "\n",
    "episodes = soup_season.select('#__next > main > div > section > div > section > div > div.sc-978e9339-1.ihWZgK.ipc-page-grid__item.ipc-page-grid__item--span-2 > section:nth-child(2) > section.sc-33cc047c-0.guTCiW > article')\n",
    "\n",
    "\n",
    "for episode in episodes:\n",
    "    episode_detail = episode.select_one('div.sc-ccd6e31b-5.cXcoHr > h4 > div > a > div').text.strip() if episode.select_one('div.sc-ccd6e31b-5.cXcoHr > h4 > div > a > div') else 'N/A'\n",
    "    \n",
    "    if episode_detail != 'N/A':\n",
    "        season = episode_detail.split('.')[0]\n",
    "        episode_num = episode_detail.split('.')[1].split(' ∙ ')[0]\n",
    "        episode_name = episode_detail.split('.')[1].split(' ∙ ')[1]\n",
    "        \n",
    "        episode_data = {\n",
    "            'season': season,\n",
    "            'episode': episode_num,\n",
    "            'episode_name': episode_name\n",
    "        }\n",
    "        episodes_data.append(episode_data)\n",
    "\n",
    "episodes_data\n",
    "\n"
   ]
  },
  {
   "cell_type": "code",
   "execution_count": 87,
   "metadata": {},
   "outputs": [
    {
     "data": {
      "text/plain": [
       "['E1', 'Mugunghwa kkoch-i pideon nal']"
      ]
     },
     "execution_count": 87,
     "metadata": {},
     "output_type": "execute_result"
    }
   ],
   "source": [
    "episode_detail = soup_season.select_one('div.sc-ccd6e31b-5.cXcoHr > h4 > div > a > div').text.strip() if soup_season.select_one('div.sc-ccd6e31b-5.cXcoHr > h4 > div > a > div') else 'N/A'\n",
    "season = episode_detail.split('.')[0]\n",
    "episode = episode_detail.split('.')[1].split(' ∙ ')[0]\n",
    "episode_name = episode_detail.split('.')[1].split(' ∙ ')[1]"
   ]
  },
  {
   "cell_type": "code",
   "execution_count": null,
   "metadata": {},
   "outputs": [],
   "source": [
    "#__next > main > div > section > div > section > div > div.sc-978e9339-1.ihWZgK.ipc-page-grid__item.ipc-page-grid__item--span-2 > section:nth-child(2) > section.sc-33cc047c-0.guTCiW > article:nth-child(1) > div > div > div.sc-ccd6e31b-4.eMYVLm > div.sc-ccd6e31b-5.cXcoHr > h4 > div > a > div"
   ]
  }
 ],
 "metadata": {
  "kernelspec": {
   "display_name": "conda_ds_study",
   "language": "python",
   "name": "python3"
  },
  "language_info": {
   "codemirror_mode": {
    "name": "ipython",
    "version": 3
   },
   "file_extension": ".py",
   "mimetype": "text/x-python",
   "name": "python",
   "nbconvert_exporter": "python",
   "pygments_lexer": "ipython3",
   "version": "3.8.19"
  }
 },
 "nbformat": 4,
 "nbformat_minor": 2
}
