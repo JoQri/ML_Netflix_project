{
 "cells": [
  {
   "cell_type": "markdown",
   "id": "83649448-e8d2-4091-a579-135881970e03",
   "metadata": {},
   "source": [
    "# EDA"
   ]
  },
  {
   "cell_type": "code",
   "execution_count": 1,
   "id": "78f07997-6692-476d-8f08-f192dff60bb7",
   "metadata": {},
   "outputs": [],
   "source": [
    "# 모듈 불러오기\n",
    "import pandas as pd\n",
    "import numpy as np\n",
    "import re\n",
    "import ast\n",
    "\n",
    "import matplotlib.pyplot as plt\n",
    "import seaborn as sns\n",
    "%matplotlib inline\n",
    "\n",
    "from collections import Counter"
   ]
  },
  {
   "cell_type": "code",
   "execution_count": 2,
   "id": "138599ca-83bc-44a8-9569-96965e3e4399",
   "metadata": {},
   "outputs": [],
   "source": [
    "# 한국어 설정\n",
    "from matplotlib import font_manager, rc\n",
    "rc('font', family='Malgun Gothic')"
   ]
  },
  {
   "cell_type": "code",
   "execution_count": null,
   "id": "fdacdce7-b5b8-4d2d-bcb0-5c047577fd14",
   "metadata": {},
   "outputs": [],
   "source": [
    "# 데이터 불러오기\n",
    "final = pd.read_excel('./imdb_final_6.xlsx', index_col=0)\n",
    "final.head()"
   ]
  },
  {
   "cell_type": "markdown",
   "id": "8b7417c3-e2ec-4fda-9c04-84c03d80c594",
   "metadata": {},
   "source": [
    "## 01. 개요"
   ]
  },
  {
   "cell_type": "code",
   "execution_count": null,
   "id": "bffac9d5-02f1-439b-a6eb-b2a9df578d75",
   "metadata": {},
   "outputs": [],
   "source": [
    "# info\n",
    "final.info()"
   ]
  },
  {
   "cell_type": "code",
   "execution_count": null,
   "id": "59eab889-a0d8-40ff-8b22-db9fd2fde696",
   "metadata": {},
   "outputs": [],
   "source": [
    "# describe\n",
    "final.describe()"
   ]
  },
  {
   "cell_type": "code",
   "execution_count": null,
   "id": "66ee27c5-7b6e-449a-83d2-5ed0544b05f6",
   "metadata": {},
   "outputs": [],
   "source": [
    "# insull()\n",
    "final.isnull().sum()"
   ]
  },
  {
   "cell_type": "markdown",
   "id": "5cf0116c-e3af-4af0-85fb-e1e45acdcbd6",
   "metadata": {},
   "source": [
    "## 02. 시즌 개수"
   ]
  },
  {
   "cell_type": "code",
   "execution_count": null,
   "id": "ed2b7346-8439-42ea-985d-f6ca9ccdfc2b",
   "metadata": {},
   "outputs": [],
   "source": [
    "# total_season_num\n",
    "final['total_season_num'].value_counts().sort_index()"
   ]
  },
  {
   "cell_type": "code",
   "execution_count": null,
   "id": "2098feb9-fcaf-46d0-8783-5c7e4e6d002e",
   "metadata": {},
   "outputs": [],
   "source": [
    "# total_season_num\n",
    "value_counts = final['total_season_num'].value_counts().sort_index()\n",
    "\n",
    "# 막대 그래프 시각화\n",
    "colors = ['red' if season == 1 else 'skyblue' for season in value_counts.index]\n",
    "\n",
    "plt.figure(figsize=(10, 6))\n",
    "value_counts.plot(kind='bar', color=colors)\n",
    "plt.title('시즌 개수')\n",
    "plt.xticks(rotation=0)\n",
    "plt.grid(axis='y', linestyle='--', alpha=0.7)\n",
    "\n",
    "plt.show()"
   ]
  },
  {
   "cell_type": "code",
   "execution_count": null,
   "id": "6cff40ef-9fd5-4a7b-9eba-fe7ce2353d83",
   "metadata": {},
   "outputs": [],
   "source": [
    "# 시즌 2 이상 드라마 개수 및 비율\n",
    "len(final[final['total_season_num'] >= 2]), round(len(final[final['total_season_num'] >= 2]) / len(final['total_season_num']), 2)"
   ]
  },
  {
   "cell_type": "code",
   "execution_count": null,
   "id": "a72497b9-09c0-4cd4-ba2d-931afa178cb0",
   "metadata": {},
   "outputs": [],
   "source": [
    "# 시즌이 8 이상인 드라마\n",
    "final[final['total_season_num'] >= 8]"
   ]
  },
  {
   "cell_type": "markdown",
   "id": "e0765d39-4bf3-4744-8367-95464ab4d83e",
   "metadata": {},
   "source": [
    "## 03. 연도"
   ]
  },
  {
   "cell_type": "code",
   "execution_count": null,
   "id": "425588df-9575-4be8-a8a6-c399630abb81",
   "metadata": {},
   "outputs": [],
   "source": [
    "# 2018 이후에 방영된 드라마 개수\n",
    "len(final[final['year'] >= 2018]), round(len(final[final['year'] >= 2018]) / len(final['year']), 2)"
   ]
  },
  {
   "cell_type": "code",
   "execution_count": null,
   "id": "3df2dfd2-2a78-47e0-91b3-f8136b184d72",
   "metadata": {},
   "outputs": [],
   "source": [
    "# 연도별 드라마 개수\n",
    "plt.figure(figsize=(10, 6))\n",
    "sns.countplot(data=final, x='year')\n",
    "plt.title('연도별 드라마 개수')\n",
    "plt.xticks(rotation=45)\n",
    "plt.show()"
   ]
  },
  {
   "cell_type": "markdown",
   "id": "57a4e141-d23e-4ba6-8a18-14c18c48a475",
   "metadata": {},
   "source": [
    "## 04. 장르"
   ]
  },
  {
   "cell_type": "code",
   "execution_count": null,
   "id": "41699d72-e223-4c47-abd2-c303f4a1cd8d",
   "metadata": {},
   "outputs": [],
   "source": [
    "# 장르\n",
    "genre = []\n",
    "for idx, row in final.iterrows():\n",
    "    tmp_list= row['genre'].split(', ')\n",
    "    for x in tmp_list:\n",
    "        genre.append(x)\n",
    "\n",
    "counts = Counter(genre)\n",
    "counts = sorted(counts.items(), key=lambda x: x[1], reverse=True)\n",
    "for element, count in counts[1:]:\n",
    "    print(f'{element}: {count}')"
   ]
  },
  {
   "cell_type": "code",
   "execution_count": null,
   "id": "45f4f74b-038c-4471-af9d-89f4a89fdee9",
   "metadata": {},
   "outputs": [],
   "source": [
    "# 튜플의 각 요소를 분리\n",
    "counts = counts[1:]\n",
    "counts = counts[:9]\n",
    "genre, cnt = zip(*counts)\n",
    "\n",
    "# 국가별 드라마 개수 시각화\n",
    "cmap = plt.get_cmap('viridis')\n",
    "plt.figure(figsize=(12, 6))\n",
    "bars = plt.bar(genre, cnt)\n",
    "\n",
    "for bar, height in zip(bars, cnt):\n",
    "    bar.set_color(cmap(height / max(cnt)))\n",
    "\n",
    "plt.title('장르 별 드라마 개수')\n",
    "plt.show()"
   ]
  },
  {
   "cell_type": "markdown",
   "id": "3dc20897-420f-403e-a962-778cfcaca6cf",
   "metadata": {},
   "source": [
    "## 05. 연령 등급"
   ]
  },
  {
   "cell_type": "code",
   "execution_count": null,
   "id": "c6dddfb1-7d89-49e7-bed6-e4fa31c4ba70",
   "metadata": {},
   "outputs": [],
   "source": [
    "# 연령 등급 개수\n",
    "plt.figure(figsize=(10, 6))\n",
    "sns.countplot(data=final, x='age_rating')\n",
    "plt.title('연령 등급 개수')\n",
    "plt.show()"
   ]
  },
  {
   "cell_type": "code",
   "execution_count": null,
   "id": "63ef8639-eed3-4fde-b473-49798fe2b978",
   "metadata": {},
   "outputs": [],
   "source": [
    "# 연령 등급에 따른 재생 시간 분포\n",
    "plt.figure(figsize=(8, 6))\n",
    "sns.boxplot(x='age_rating', y='runtime', data=final, palette='Set3')\n",
    "plt.title('연령 등급에 따른 재생 시간 분포')\n",
    "plt.show()"
   ]
  },
  {
   "cell_type": "markdown",
   "id": "3fe29300-4516-46c8-b529-d425e333cd1f",
   "metadata": {},
   "source": [
    "## 06. 제작 국가"
   ]
  },
  {
   "cell_type": "code",
   "execution_count": null,
   "id": "a39b41ef-575c-4303-943f-6655ae462ee5",
   "metadata": {},
   "outputs": [],
   "source": [
    "# 제작 국가 상위 20개\n",
    "country = []\n",
    "for idx, row in final.iterrows():\n",
    "    tmp_list= row['production_country'].split(', ')\n",
    "    for x in tmp_list:\n",
    "        country.append(x)\n",
    "\n",
    "counts = Counter(country)\n",
    "counts = sorted(counts.items(), key=lambda x: x[1], reverse=True)\n",
    "for element, count in counts[:20]:\n",
    "    print(f'{element}: {count}')"
   ]
  },
  {
   "cell_type": "code",
   "execution_count": null,
   "id": "be3fbe59-f59e-4d97-9d68-2427903322bc",
   "metadata": {},
   "outputs": [],
   "source": [
    "# 튜플의 각 요소를 분리\n",
    "counts = counts[:12]\n",
    "country, cnt = zip(*counts)\n",
    "\n",
    "# 국가별 드라마 개수 시각화\n",
    "cmap = plt.get_cmap('viridis')\n",
    "plt.figure(figsize=(12, 6))\n",
    "bars = plt.bar(country, cnt)\n",
    "\n",
    "for bar, height in zip(bars, cnt):\n",
    "    bar.set_color(cmap(height / max(cnt)))\n",
    "\n",
    "plt.xlabel('count')\n",
    "plt.ylabel('country')\n",
    "plt.title('제작 국가 별 드라마 개수')\n",
    "plt.show()"
   ]
  },
  {
   "cell_type": "markdown",
   "id": "af8bb61a-832f-4954-a52c-58cab78799d0",
   "metadata": {},
   "source": [
    "## 07. 나라 별 TOP 감독"
   ]
  },
  {
   "cell_type": "code",
   "execution_count": null,
   "id": "ea8bf80b-922d-4e77-845f-729e072725c3",
   "metadata": {},
   "outputs": [],
   "source": [
    "# 결측치 처리\n",
    "final['production_country'] = final['production_country'].fillna('')\n",
    "final['director'] = final['director'].fillna('[]').apply(eval)\n",
    "\n",
    "# 나라와 감독 데이터프레임 생성\n",
    "country_directors = []\n",
    "\n",
    "for index, row in df.iterrows():\n",
    "    countries = row['production_country'].split(',')\n",
    "    directors = row['director']\n",
    "    for country in countries:\n",
    "        for director in directors:\n",
    "            country_directors.append({'country': country.strip(), 'director': director.strip()})\n",
    "\n",
    "country_directors_df = pd.DataFrame(country_directors)\n",
    "\n",
    "# 각 나라별 상위 10명의 감독 추출\n",
    "top_directors_per_country = {}\n",
    "\n",
    "for country, group in country_directors_df.groupby('country'):\n",
    "    director_counts = Counter(group['director'])\n",
    "    top_directors = director_counts.most_common(10)\n",
    "    top_directors_per_country[country] = top_directors\n",
    "\n",
    "# 결과 출력\n",
    "for country, directors in top_directors_per_country.items():\n",
    "    print(f\"Country: {country}\")\n",
    "    for director, count in directors:\n",
    "        print(f\"  {director}: {count} 작품\")\n",
    "    print()"
   ]
  },
  {
   "cell_type": "markdown",
   "id": "3db03adb-5283-492c-b807-39b64fd7b206",
   "metadata": {},
   "source": [
    "### 시각화"
   ]
  },
  {
   "cell_type": "code",
   "execution_count": null,
   "id": "30d04f32-44cf-4541-a750-7c982ac6e60b",
   "metadata": {},
   "outputs": [],
   "source": [
    "# subplot 생성\n",
    "num_countries = len(top_directors_per_country)\n",
    "num_rows = (num_countries // 4) + 1\n",
    "plt.figure(figsize=(20, 5 * num_rows))\n",
    "\n",
    "for idx, (country, directors) in enumerate(top_directors_per_country.items()):\n",
    "    directors_df = pd.DataFrame(directors, columns=['Director', 'Count'])\n",
    "    \n",
    "    plt.subplot(num_rows, 4, idx + 1)\n",
    "    sns.barplot(x='Count', y='Director', data=directors_df, palette='viridis')\n",
    "    plt.title(country)\n",
    "    plt.tight_layout()\n",
    "\n",
    "plt.show()"
   ]
  },
  {
   "cell_type": "markdown",
   "id": "01dfc146-db08-481a-add7-168ec4bbee04",
   "metadata": {},
   "source": [
    "### 나라 TOP5, 감독 TOP5"
   ]
  },
  {
   "cell_type": "code",
   "execution_count": null,
   "id": "de9f9c1b-4db6-48ea-ae94-aaab9f69d752",
   "metadata": {},
   "outputs": [],
   "source": [
    "# subplot 생성\n",
    "num_countries = len(top_directors_per_country)\n",
    "num_rows = (num_countries // 4) + 1\n",
    "plt.figure(figsize=(20, 5 * num_rows))\n",
    "\n",
    "for idx, (country, directors) in enumerate(top_directors_per_country.items()):\n",
    "    directors_df = pd.DataFrame(directors, columns=['Director', 'Count'])\n",
    "    \n",
    "    plt.subplot(num_rows, 4, idx + 1)\n",
    "    sns.barplot(x='Count', y='Director', data=directors_df, palette='viridis')\n",
    "    plt.title(country)\n",
    "    plt.tight_layout()\n",
    "\n",
    "plt.show()"
   ]
  },
  {
   "cell_type": "markdown",
   "id": "2598d263-a8e3-4ca9-adab-60ec071fb714",
   "metadata": {},
   "source": [
    "## 08. 나라별 TOP 작가"
   ]
  },
  {
   "cell_type": "code",
   "execution_count": null,
   "id": "16042452-29a1-4b49-8f34-24ca8a2f15ed",
   "metadata": {},
   "outputs": [],
   "source": [
    "# 결측치 처리\n",
    "final['production_country'] = final['production_country'].fillna('')\n",
    "final['writer'] = final['writer'].fillna('[]').apply(eval)\n",
    "\n",
    "# 나라와 작가 데이터프레임 생성\n",
    "country_writers = []\n",
    "\n",
    "for index, row in df.iterrows():\n",
    "    countries = row['production_country'].split(',')\n",
    "    writers = row['writer']\n",
    "    for country in countries:\n",
    "        for writer in writers:\n",
    "            country_writers.append({'country': country.strip(), 'writer': writer.strip()})\n",
    "\n",
    "country_writers_df = pd.DataFrame(country_writers)\n",
    "\n",
    "# 각 나라별 상위 10명의 감독 추출\n",
    "top_writers_per_country = {}\n",
    "\n",
    "for country, group in country_writers_df.groupby('country'):\n",
    "    writer_counts = Counter(group['writer'])\n",
    "    top_writers = writer_counts.most_common(10)\n",
    "    top_writers_per_country[country] = top_writers\n",
    "\n",
    "# 결과 출력\n",
    "for country, writers in top_writers_per_country.items():\n",
    "    print(f\"Country: {country}\")\n",
    "    for writer, count in writers:\n",
    "        print(f\"  {writer}: {count} 작품\")\n",
    "    print()"
   ]
  },
  {
   "cell_type": "markdown",
   "id": "7ce0c7d4-96c9-4f4d-a328-0cd4d7acd382",
   "metadata": {},
   "source": [
    "### 시각화"
   ]
  },
  {
   "cell_type": "code",
   "execution_count": null,
   "id": "0aed0b73",
   "metadata": {},
   "outputs": [],
   "source": [
    "# subplot 생성\n",
    "num_countries = len(top_writers_per_country)\n",
    "num_rows = (num_countries // 4) + 1\n",
    "plt.figure(figsize=(20, 5 * num_rows))\n",
    "\n",
    "for idx, (country, writers) in enumerate(top_writers_per_country.items()):\n",
    "    writers_df = pd.DataFrame(writers, columns=['Writer', 'Count'])\n",
    "    \n",
    "    plt.subplot(num_rows, 4, idx + 1)\n",
    "    sns.barplot(x='Count', y='Writer', data=writers_df, palette='viridis')\n",
    "    plt.title(country)\n",
    "    plt.tight_layout()\n",
    "\n",
    "plt.show()"
   ]
  },
  {
   "cell_type": "markdown",
   "id": "efbfca92",
   "metadata": {},
   "source": [
    "### 나라 TOP5, 작가 TOP5"
   ]
  },
  {
   "cell_type": "code",
   "execution_count": null,
   "id": "0bed6bc6",
   "metadata": {},
   "outputs": [],
   "source": [
    "# 넷플릭스 드라마를 가장 많이 제작한 국가 Top 5 추출\n",
    "top_countries = df['production_country'].value_counts().head(5).index.tolist()\n",
    "\n",
    "# 감독 정보가 있는 국가별 데이터 필터링\n",
    "df_filtered = df[df['production_country'].apply(lambda x: any(country in x for country in top_countries))]\n",
    "\n",
    "# 국가별 감독 리스트를 만들고 상위 10명 추출\n",
    "top_writers_per_country = {}\n",
    "for country in top_countries:\n",
    "    country_df = df_filtered[df_filtered['production_country'].str.contains(country)]\n",
    "    all_writers = country_df['writer'].explode().tolist()\n",
    "    most_common_writers = Counter(all_writers).most_common(10)\n",
    "    top_writers_per_country[country] = most_common_writers\n",
    "\n",
    "# 결과 출력\n",
    "for country, writers in top_writers_per_country.items():\n",
    "    print(f\"Country: {country}\")\n",
    "    for writer, count in writers:\n",
    "        print(f\"{writer}: {count}\")\n",
    "    print()\n",
    "\n",
    "# 그래프 출력\n",
    "plt.figure(figsize=(20, 20))\n",
    "for idx, (country, writers) in enumerate(top_writers_per_country.items(), start=1):\n",
    "    writers_df = pd.DataFrame(writers, columns=['Writer', 'Count'])\n",
    "    plt.subplot(3, 2, idx)\n",
    "    sns.barplot(x='Count', y='Writer', data=writers_df, palette='viridis')\n",
    "    plt.title(country)\n",
    "plt.tight_layout()\n",
    "plt.show()"
   ]
  },
  {
   "cell_type": "markdown",
   "id": "dc824b5c",
   "metadata": {},
   "source": [
    "### 09. 시즌 갭 "
   ]
  },
  {
   "cell_type": "markdown",
   "id": "cbca312f",
   "metadata": {},
   "source": [
    "# total_season_num이 2 이상인 행 필터링\n",
    "filtered_final = final[final['total_season_num'] >= 2]\n",
    "filtered_final"
   ]
  },
  {
   "cell_type": "code",
   "execution_count": null,
   "id": "31f016d0",
   "metadata": {},
   "outputs": [],
   "source": [
    "from datetime import datetime\n",
    "\n",
    "# 시즌별 데이터를 담을 리스트 초기화\n",
    "season_columns = [f'season_{i}' for i in range(1, 18)]  # 시즌 1부터 시즌 17까지\n",
    "\n",
    "# 결과를 담을 리스트 초기화\n",
    "season_gaps = []\n",
    "\n",
    "# 각 행을 순회하며 시즌 간격을 계산\n",
    "for idx, row in df.iterrows():\n",
    "    # 시즌 데이터를 담을 리스트 초기화\n",
    "    seasons = []\n",
    "    \n",
    "    for season_col in season_columns:\n",
    "        if season_col in row and pd.notnull(row[season_col]):\n",
    "            season_data = eval(row[season_col])  # 문자열을 dict 형태로 변환\n",
    "            seasons.append(season_data)\n",
    "    \n",
    "    # 시즌이 2개 이상인 경우에만 계산\n",
    "    if len(seasons) > 1:\n",
    "        for i in range(len(seasons) - 1):\n",
    "            try:\n",
    "                # 현재 시즌의 마지막 에피소드 방영일자\n",
    "                last_episode_current_season = list(seasons[i].values())[-1][2]\n",
    "                if last_episode_current_season:\n",
    "                    last_air_date = datetime.strptime(last_episode_current_season, \"%a, %b %d, %Y\")\n",
    "                else:\n",
    "                    continue\n",
    "                \n",
    "                # 다음 시즌의 첫 번째 에피소드 방영일자\n",
    "                first_episode_next_season = list(seasons[i + 1].values())[0][2]\n",
    "                if first_episode_next_season:\n",
    "                    next_air_date = datetime.strptime(first_episode_next_season, \"%a, %b %d, %Y\")\n",
    "                else:\n",
    "                    continue\n",
    "                \n",
    "                # 시즌 간의 간격 계산\n",
    "                gap_days = (next_air_date - last_air_date).days\n",
    "                gap_years_months = f\"{gap_days // 365}년 {gap_days % 365 // 30}개월\"\n",
    "                \n",
    "                # 결과 저장\n",
    "                season_gaps.append({\n",
    "                    'korean_title': row['korean_title'],\n",
    "                    'season': f\"Season {i + 1} to Season {i + 2}\",\n",
    "                    'gap_days': gap_days,\n",
    "                    'gap_years_months': gap_years_months\n",
    "                })\n",
    "            except KeyError as e:\n",
    "                print(f\"KeyError: {e} in row {idx} for season {i + 1} to season {i + 2}\")\n",
    "            except ValueError as e:\n",
    "                print(f\"ValueError: {e} in row {idx} for season {i + 1} to season {i + 2}\")\n",
    "\n",
    "# 결과 데이터 프레임 생성\n",
    "season_gaps_df = pd.DataFrame(season_gaps)\n",
    "\n",
    "# 결과 출력\n",
    "season_gaps_df.head()"
   ]
  },
  {
   "cell_type": "code",
   "execution_count": null,
   "id": "82b1d3c5",
   "metadata": {},
   "outputs": [],
   "source": [
    "# 시즌 간의 gap_days 평균 계산\n",
    "average_gap_days = season_gaps_df.groupby('season')['gap_days'].mean()\n",
    "\n",
    "# 시즌 순서 정렬\n",
    "sorted_season_transitions = sorted(average_gap_days.index, key=lambda x: (int(x.split()[1]), int(x.split()[4])))\n",
    "\n",
    "# 그래프 생성\n",
    "plt.figure(figsize=(12, 6))\n",
    "average_gap_days = average_gap_days.reindex(sorted_season_transitions)\n",
    "average_gap_days.plot(kind='bar', color='skyblue')\n",
    "plt.xlabel('Season Transition')\n",
    "plt.ylabel('Average Gap Days')\n",
    "plt.title('Average Gap Days Between Seasons')\n",
    "plt.xticks(rotation=45)\n",
    "plt.grid(axis='y')\n",
    "\n",
    "# 그래프 출력\n",
    "plt.show()"
   ]
  }
 ],
 "metadata": {
  "kernelspec": {
   "display_name": "Python 3 (ipykernel)",
   "language": "python",
   "name": "python3"
  },
  "language_info": {
   "codemirror_mode": {
    "name": "ipython",
    "version": 3
   },
   "file_extension": ".py",
   "mimetype": "text/x-python",
   "name": "python",
   "nbconvert_exporter": "python",
   "pygments_lexer": "ipython3",
   "version": "3.8.19"
  }
 },
 "nbformat": 4,
 "nbformat_minor": 5
}
