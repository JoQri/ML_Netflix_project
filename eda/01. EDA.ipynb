{
 "cells": [
  {
   "cell_type": "markdown",
   "id": "83649448-e8d2-4091-a579-135881970e03",
   "metadata": {},
   "source": [
    "# EDA"
   ]
  },
  {
   "cell_type": "code",
   "execution_count": 1,
   "id": "78f07997-6692-476d-8f08-f192dff60bb7",
   "metadata": {},
   "outputs": [],
   "source": [
    "# 모듈 불러오기\n",
    "import pandas as pd\n",
    "import numpy as np\n",
    "import re\n",
    "import ast\n",
    "\n",
    "import matplotlib.pyplot as plt\n",
    "import seaborn as sns\n",
    "%matplotlib inline\n",
    "\n",
    "from collections import Counter"
   ]
  },
  {
   "cell_type": "code",
   "execution_count": 2,
   "id": "138599ca-83bc-44a8-9569-96965e3e4399",
   "metadata": {},
   "outputs": [],
   "source": [
    "# 한국어 설정\n",
    "from matplotlib import font_manager, rc\n",
    "rc('font', family='Malgun Gothic')"
   ]
  },
  {
   "cell_type": "code",
   "execution_count": null,
   "id": "fdacdce7-b5b8-4d2d-bcb0-5c047577fd14",
   "metadata": {},
   "outputs": [],
   "source": [
    "# 데이터 불러오기\n",
    "final = pd.read_excel('./imdb_final_6.xlsx', index_col=0)\n",
    "final.head()"
   ]
  },
  {
   "cell_type": "markdown",
   "id": "8b7417c3-e2ec-4fda-9c04-84c03d80c594",
   "metadata": {},
   "source": [
    "## 01. 개요"
   ]
  },
  {
   "cell_type": "code",
   "execution_count": null,
   "id": "bffac9d5-02f1-439b-a6eb-b2a9df578d75",
   "metadata": {},
   "outputs": [],
   "source": [
    "# info\n",
    "final.info()"
   ]
  },
  {
   "cell_type": "code",
   "execution_count": null,
   "id": "59eab889-a0d8-40ff-8b22-db9fd2fde696",
   "metadata": {},
   "outputs": [],
   "source": [
    "# describe\n",
    "final.describe()"
   ]
  },
  {
   "cell_type": "code",
   "execution_count": null,
   "id": "66ee27c5-7b6e-449a-83d2-5ed0544b05f6",
   "metadata": {},
   "outputs": [],
   "source": [
    "# insull()\n",
    "final.isnull().sum()"
   ]
  },
  {
   "cell_type": "markdown",
   "id": "5cf0116c-e3af-4af0-85fb-e1e45acdcbd6",
   "metadata": {},
   "source": [
    "## 02. 시즌 개수"
   ]
  },
  {
   "cell_type": "code",
   "execution_count": null,
   "id": "ed2b7346-8439-42ea-985d-f6ca9ccdfc2b",
   "metadata": {},
   "outputs": [],
   "source": [
    "# total_season_num\n",
    "final['total_season_num'].value_counts().sort_index()"
   ]
  },
  {
   "cell_type": "code",
   "execution_count": null,
   "id": "2098feb9-fcaf-46d0-8783-5c7e4e6d002e",
   "metadata": {},
   "outputs": [],
   "source": [
    "# total_season_num\n",
    "value_counts = final['total_season_num'].value_counts().sort_index()\n",
    "\n",
    "# 막대 그래프 시각화\n",
    "colors = ['red' if season == 1 else 'skyblue' for season in value_counts.index]\n",
    "\n",
    "plt.figure(figsize=(10, 6))\n",
    "value_counts.plot(kind='bar', color=colors)\n",
    "plt.title('시즌 개수')\n",
    "plt.xticks(rotation=0)\n",
    "plt.grid(axis='y', linestyle='--', alpha=0.7)\n",
    "\n",
    "plt.show()"
   ]
  },
  {
   "cell_type": "code",
   "execution_count": null,
   "id": "6cff40ef-9fd5-4a7b-9eba-fe7ce2353d83",
   "metadata": {},
   "outputs": [],
   "source": [
    "# 시즌 2 이상 드라마 개수 및 비율\n",
    "len(final[final['total_season_num'] >= 2]), round(len(final[final['total_season_num'] >= 2]) / len(final['total_season_num']), 2)"
   ]
  },
  {
   "cell_type": "code",
   "execution_count": null,
   "id": "a72497b9-09c0-4cd4-ba2d-931afa178cb0",
   "metadata": {},
   "outputs": [],
   "source": [
    "# 시즌이 8 이상인 드라마\n",
    "final[final['total_season_num'] >= 8]"
   ]
  },
  {
   "cell_type": "markdown",
   "id": "e0765d39-4bf3-4744-8367-95464ab4d83e",
   "metadata": {},
   "source": [
    "## 03. 연도"
   ]
  },
  {
   "cell_type": "code",
   "execution_count": null,
   "id": "425588df-9575-4be8-a8a6-c399630abb81",
   "metadata": {},
   "outputs": [],
   "source": [
    "# 2018 이후에 방영된 드라마 개수\n",
    "len(final[final['year'] >= 2018]), round(len(final[final['year'] >= 2018]) / len(final['year']), 2)"
   ]
  },
  {
   "cell_type": "code",
   "execution_count": null,
   "id": "3df2dfd2-2a78-47e0-91b3-f8136b184d72",
   "metadata": {},
   "outputs": [],
   "source": [
    "# 연도별 드라마 개수\n",
    "plt.figure(figsize=(10, 6))\n",
    "sns.countplot(data=final, x='year')\n",
    "plt.title('연도별 드라마 개수')\n",
    "plt.xticks(rotation=45)\n",
    "plt.show()"
   ]
  },
  {
   "cell_type": "markdown",
   "id": "57a4e141-d23e-4ba6-8a18-14c18c48a475",
   "metadata": {},
   "source": [
    "## 04. 장르"
   ]
  },
  {
   "cell_type": "code",
   "execution_count": null,
   "id": "41699d72-e223-4c47-abd2-c303f4a1cd8d",
   "metadata": {},
   "outputs": [],
   "source": [
    "# 장르\n",
    "genre = []\n",
    "for idx, row in final.iterrows():\n",
    "    tmp_list= row['genre'].split(', ')\n",
    "    for x in tmp_list:\n",
    "        genre.append(x)\n",
    "\n",
    "counts = Counter(genre)\n",
    "counts = sorted(counts.items(), key=lambda x: x[1], reverse=True)\n",
    "for element, count in counts[1:]:\n",
    "    print(f'{element}: {count}')"
   ]
  },
  {
   "cell_type": "code",
   "execution_count": null,
   "id": "45f4f74b-038c-4471-af9d-89f4a89fdee9",
   "metadata": {},
   "outputs": [],
   "source": [
    "# 튜플의 각 요소를 분리\n",
    "counts = counts[1:]\n",
    "counts = counts[:9]\n",
    "genre, cnt = zip(*counts)\n",
    "\n",
    "# 국가별 드라마 개수 시각화\n",
    "cmap = plt.get_cmap('viridis')\n",
    "plt.figure(figsize=(12, 6))\n",
    "bars = plt.bar(genre, cnt)\n",
    "\n",
    "for bar, height in zip(bars, cnt):\n",
    "    bar.set_color(cmap(height / max(cnt)))\n",
    "\n",
    "plt.title('장르 별 드라마 개수')\n",
    "plt.show()"
   ]
  },
  {
   "cell_type": "markdown",
   "id": "3dc20897-420f-403e-a962-778cfcaca6cf",
   "metadata": {},
   "source": [
    "## 05. 연령 등급"
   ]
  },
  {
   "cell_type": "code",
   "execution_count": null,
   "id": "c6dddfb1-7d89-49e7-bed6-e4fa31c4ba70",
   "metadata": {},
   "outputs": [],
   "source": [
    "# 연령 등급 개수\n",
    "plt.figure(figsize=(10, 6))\n",
    "sns.countplot(data=final, x='age_rating')\n",
    "plt.title('연령 등급 개수')\n",
    "plt.show()"
   ]
  },
  {
   "cell_type": "code",
   "execution_count": null,
   "id": "63ef8639-eed3-4fde-b473-49798fe2b978",
   "metadata": {},
   "outputs": [],
   "source": [
    "# 연령 등급에 따른 재생 시간 분포\n",
    "plt.figure(figsize=(8, 6))\n",
    "sns.boxplot(x='age_rating', y='runtime', data=final, palette='Set3')\n",
    "plt.title('연령 등급에 따른 재생 시간 분포')\n",
    "plt.show()"
   ]
  },
  {
   "cell_type": "markdown",
   "id": "3fe29300-4516-46c8-b529-d425e333cd1f",
   "metadata": {},
   "source": [
    "## 06. 제작 국가"
   ]
  },
  {
   "cell_type": "code",
   "execution_count": null,
   "id": "a39b41ef-575c-4303-943f-6655ae462ee5",
   "metadata": {},
   "outputs": [],
   "source": [
    "# 제작 국가 상위 20개\n",
    "country = []\n",
    "for idx, row in final.iterrows():\n",
    "    tmp_list= row['production_country'].split(', ')\n",
    "    for x in tmp_list:\n",
    "        country.append(x)\n",
    "\n",
    "counts = Counter(country)\n",
    "counts = sorted(counts.items(), key=lambda x: x[1], reverse=True)\n",
    "for element, count in counts[:20]:\n",
    "    print(f'{element}: {count}')"
   ]
  },
  {
   "cell_type": "code",
   "execution_count": null,
   "id": "be3fbe59-f59e-4d97-9d68-2427903322bc",
   "metadata": {},
   "outputs": [],
   "source": [
    "# 튜플의 각 요소를 분리\n",
    "counts = counts[:12]\n",
    "country, cnt = zip(*counts)\n",
    "\n",
    "# 국가별 드라마 개수 시각화\n",
    "cmap = plt.get_cmap('viridis')\n",
    "plt.figure(figsize=(12, 6))\n",
    "bars = plt.bar(country, cnt)\n",
    "\n",
    "for bar, height in zip(bars, cnt):\n",
    "    bar.set_color(cmap(height / max(cnt)))\n",
    "\n",
    "plt.xlabel('count')\n",
    "plt.ylabel('country')\n",
    "plt.title('제작 국가 별 드라마 개수')\n",
    "plt.show()"
   ]
  },
  {
   "cell_type": "code",
   "execution_count": null,
   "id": "af8bb61a-832f-4954-a52c-58cab78799d0",
   "metadata": {},
   "outputs": [],
   "source": []
  },
  {
   "cell_type": "code",
   "execution_count": null,
   "id": "ea8bf80b-922d-4e77-845f-729e072725c3",
   "metadata": {},
   "outputs": [],
   "source": []
  },
  {
   "cell_type": "code",
   "execution_count": null,
   "id": "3db03adb-5283-492c-b807-39b64fd7b206",
   "metadata": {},
   "outputs": [],
   "source": []
  },
  {
   "cell_type": "code",
   "execution_count": null,
   "id": "30d04f32-44cf-4541-a750-7c982ac6e60b",
   "metadata": {},
   "outputs": [],
   "source": []
  },
  {
   "cell_type": "code",
   "execution_count": null,
   "id": "01dfc146-db08-481a-add7-168ec4bbee04",
   "metadata": {},
   "outputs": [],
   "source": []
  },
  {
   "cell_type": "code",
   "execution_count": null,
   "id": "de9f9c1b-4db6-48ea-ae94-aaab9f69d752",
   "metadata": {},
   "outputs": [],
   "source": []
  },
  {
   "cell_type": "code",
   "execution_count": null,
   "id": "2598d263-a8e3-4ca9-adab-60ec071fb714",
   "metadata": {},
   "outputs": [],
   "source": []
  },
  {
   "cell_type": "code",
   "execution_count": null,
   "id": "16042452-29a1-4b49-8f34-24ca8a2f15ed",
   "metadata": {},
   "outputs": [],
   "source": []
  },
  {
   "cell_type": "code",
   "execution_count": null,
   "id": "7ce0c7d4-96c9-4f4d-a328-0cd4d7acd382",
   "metadata": {},
   "outputs": [],
   "source": []
  }
 ],
 "metadata": {
  "kernelspec": {
   "display_name": "Python 3 (ipykernel)",
   "language": "python",
   "name": "python3"
  },
  "language_info": {
   "codemirror_mode": {
    "name": "ipython",
    "version": 3
   },
   "file_extension": ".py",
   "mimetype": "text/x-python",
   "name": "python",
   "nbconvert_exporter": "python",
   "pygments_lexer": "ipython3",
   "version": "3.8.19"
  }
 },
 "nbformat": 4,
 "nbformat_minor": 5
}
