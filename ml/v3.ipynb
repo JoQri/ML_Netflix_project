{
 "cells": [
  {
   "cell_type": "markdown",
   "metadata": {},
   "source": [
    "# 3. Third Version: Encoding 변화\n",
    "- 장르: Multi-Hot -> FlixPatrol 사이트 참조하여 각 장르의 점수의 평균 계산\n",
    "- 제작 국가: Label -> Target encoding(PCA평균값)"
   ]
  },
  {
   "cell_type": "code",
   "execution_count": 142,
   "metadata": {},
   "outputs": [],
   "source": [
    "# 모듈 불러오기\n",
    "import pandas as pd\n",
    "import numpy as np\n",
    "import re\n",
    "import ast\n",
    "\n",
    "import matplotlib.pyplot as plt\n",
    "import seaborn as sns\n",
    "%matplotlib inline\n",
    "import plotly.graph_objects as go\n",
    "from plotly.subplots import make_subplots\n",
    "from scipy import stats\n",
    "\n",
    "from sklearn.model_selection import train_test_split\n",
    "from sklearn.tree import plot_tree\n",
    "from sklearn.metrics import mean_squared_error, mean_absolute_error, r2_score\n",
    "from sklearn.model_selection import train_test_split\n",
    "from sklearn.tree import DecisionTreeRegressor\n",
    "from sklearn.linear_model import LinearRegression\n",
    "from sklearn.ensemble import RandomForestRegressor, GradientBoostingRegressor, AdaBoostRegressor\n",
    "from sklearn.neighbors import KNeighborsRegressor\n",
    "from xgboost import XGBRegressor\n",
    "from lightgbm import LGBMRegressor\n",
    "\n",
    "\n",
    "from sklearn.model_selection import learning_curve"
   ]
  },
  {
   "cell_type": "code",
   "execution_count": 143,
   "metadata": {},
   "outputs": [],
   "source": [
    "# 데이터 불러오기\n",
    "df = pd.read_excel('../data/file/ml_all.xlsx', index_col=0)"
   ]
  },
  {
   "cell_type": "markdown",
   "metadata": {},
   "source": [
    "## 01-1. 제작 국가 인코딩 바꾸기"
   ]
  },
  {
   "cell_type": "code",
   "execution_count": 144,
   "metadata": {},
   "outputs": [],
   "source": [
    "# 각 범주(나라)의 타겟 변수(여기서는 PCA 평균) 계산\n",
    "country_means = df.groupby('production_country')['PCA'].mean()\n",
    "\n",
    "# 타겟 인코딩 적용\n",
    "df['production_country_encoded'] = df['production_country'].map(country_means)"
   ]
  },
  {
   "cell_type": "code",
   "execution_count": 145,
   "metadata": {},
   "outputs": [
    {
     "name": "stdout",
     "output_type": "stream",
     "text": [
      "production_country\n",
      "남아프리카공화국    0.309786\n",
      "네덜란드       -1.647491\n",
      "노르웨이        0.897731\n",
      "뉴질랜드        0.630142\n",
      "대만         -0.142808\n",
      "대한민국       -0.361577\n",
      "덴마크         0.907856\n",
      "독일          1.634898\n",
      "러시아         0.492123\n",
      "룩셈부르크       0.387385\n",
      "멕시코         0.006195\n",
      "미국          2.452330\n",
      "벨기에         0.649214\n",
      "브라질        -0.002870\n",
      "스웨덴         0.984878\n",
      "스페인         1.030830\n",
      "아르헨티나       0.400193\n",
      "아이슬란드       1.584064\n",
      "영국          2.804395\n",
      "이스라엘        1.961163\n",
      "이탈리아       -0.509365\n",
      "인도          1.212922\n",
      "일본         -0.769458\n",
      "캐나다         1.905836\n",
      "콜롬비아       -0.417882\n",
      "태국         -0.786701\n",
      "터키          0.553134\n",
      "폴란드        -0.357281\n",
      "프랑스        -0.563153\n",
      "핀란드         0.558147\n",
      "호주          0.970899\n",
      "Name: PCA, dtype: float64\n"
     ]
    }
   ],
   "source": [
    "print(country_means)"
   ]
  },
  {
   "cell_type": "markdown",
   "metadata": {},
   "source": [
    "## 01-2. 장르 encoding 값"
   ]
  },
  {
   "cell_type": "code",
   "execution_count": 146,
   "metadata": {},
   "outputs": [],
   "source": [
    "# 넷플릭스 장르 선호도 순위 리스트 (선호도 순서대로 정렬)\n",
    "genres = [\n",
    "    '드라마', '코미디', 'SF', '액션', '스릴러', '범죄', '공포', '로맨스', '판타지', '전쟁', '서부', '그 외'\n",
    "]\n",
    "\n",
    "# 각 장르에 점수를 선형적으로 할당하여 딕셔너리로 만들기\n",
    "genre_scores = {genre: 1 - i / (len(genres)) for i, genre in enumerate(genres)}\n",
    "\n",
    "# '그 외'에 해당되는 장르 리스트\n",
    "other_genres = ['역사', '가족', '음악', 'Made in Europe', '스포츠']\n",
    "\n",
    "# 장르 문자열을 받아서 점수를 계산하는 함수\n",
    "\n",
    "def get_genre_score(genre_str):\n",
    "    # 장르를 ', '로 분리\n",
    "    genre_list = genre_str.split(', ')\n",
    "    \n",
    "    # '그 외'에 포함된 하위 장르가 있는지 확인\n",
    "    for genre in genre_list:\n",
    "        if genre in other_genres:\n",
    "            return genre_scores['그 외']\n",
    "    \n",
    "    # 각 장르의 점수의 평균 계산\n",
    "    total_score = 0\n",
    "    count = 0\n",
    "    for genre in genre_list:\n",
    "        score = genre_scores.get(genre, genre_scores['그 외'])  # 없는 장르는 '그 외' 점수로 처리\n",
    "        total_score += score\n",
    "        count += 1\n",
    "    \n",
    "    # 평균 점수 계산\n",
    "    average_score = total_score / count if count > 0 else 0\n",
    "    return average_score\n",
    "\n",
    "# 장르별 점수\n",
    "df['genre'] = df['genre'].apply(get_genre_score)"
   ]
  },
  {
   "cell_type": "markdown",
   "metadata": {},
   "source": [
    "---"
   ]
  },
  {
   "cell_type": "markdown",
   "metadata": {},
   "source": [
    "## 02-1. Modeling"
   ]
  },
  {
   "cell_type": "code",
   "execution_count": 147,
   "metadata": {},
   "outputs": [],
   "source": [
    "# 로그 변환 적용 \n",
    "\n",
    "df['i_s2_rate_cnt'] = np.log1p(df['i_s2_rate_cnt'])  # log(1+x) 변환 사용\n",
    "df['w_s2_rate_cnt'] = np.log1p(df['w_s2_rate_cnt'])\n",
    "df['s2_rate_cnt_retention'] = np.log1p(df['s2_rate_cnt_retention'])\n",
    "df['s1_gap_days'] = np.log1p(df['s1_gap_days'])\n",
    "df['age_rating'] = np.log1p(df['age_rating'])\n",
    "df['season_gaps_days'] = np.log1p(df['season_gaps_days'])\n",
    "df['i_s1_rate_cnt'] = np.log1p(df['i_s1_rate_cnt'])\n",
    "df['w_s1_rate_cnt'] = np.log1p(df['w_s1_rate_cnt'])\n",
    "df['s1_rate_cnt_retention'] = np.log1p(df['s1_rate_cnt_retention'])"
   ]
  },
  {
   "cell_type": "code",
   "execution_count": 148,
   "metadata": {},
   "outputs": [],
   "source": [
    "# Score(y값)\n",
    "rate = (0.8 * df['i_s2_rate']) + (0.2 * df['w_s2_rate'])\n",
    "cnt = (0.8 * df['i_s2_rate_cnt']) + (0.2 * df['w_s2_rate_cnt'])\n",
    "ret = (0.4 * df['s2_rate_retention']) + (0.6 * df['s2_rate_cnt_retention']) *10\n",
    "total = (0.3 * rate + 0.5 * cnt + 0.2 * ret) *10\n",
    "\n",
    "# 점수를 데이터프레임에 추가\n",
    "df['score'] = total"
   ]
  },
  {
   "cell_type": "code",
   "execution_count": 149,
   "metadata": {},
   "outputs": [],
   "source": [
    "df = df[['runtime','genre','age_rating','production_country_encoded','PCA','genre_len','seson_n','i_s1_rate','i_s1_rate_cnt','s1_rate_retention','s1_rate_cnt_retention','w_s1_rate','w_s1_rate_cnt','s1_gap_days','season_gaps_days','score']]"
   ]
  },
  {
   "cell_type": "code",
   "execution_count": 150,
   "metadata": {},
   "outputs": [],
   "source": [
    "X = df.drop(['score'], axis=1)  # 'score' 열을 제외한 모든 열 선택\n",
    "y = df['score']\n",
    "\n",
    "X_train, X_test, y_train, y_test = train_test_split(X, y, test_size=0.2, random_state=13)"
   ]
  },
  {
   "cell_type": "code",
   "execution_count": 151,
   "metadata": {},
   "outputs": [],
   "source": [
    "# DecisionTreeRegressor 모델 초기화\n",
    "dt_model = DecisionTreeRegressor(random_state=13)\n",
    "\n",
    "# 군집에 속한 데이터로 모델 학습\n",
    "dt_model.fit(X_train, y_train)\n",
    "\n",
    "# 테스트 데이터에 대한 예측\n",
    "predictions = dt_model.predict(X_test)\n",
    "\n",
    "# 회귀 모델의 성능 평가\n",
    "dt_mse = mean_squared_error(y_test, predictions)\n",
    "dt_mae = mean_absolute_error(y_test, predictions)\n",
    "dt_r2 = r2_score(y_test, predictions)\n",
    "\n",
    "model_result = pd.DataFrame({'MSE': [dt_mse], 'MAE': [dt_mae], 'R^2': [dt_r2]}, index=['DecisionTreeRegressor'])"
   ]
  },
  {
   "cell_type": "code",
   "execution_count": 152,
   "metadata": {},
   "outputs": [],
   "source": [
    "# RandomForestRegressor 모델 초기화\n",
    "rf_model = RandomForestRegressor(random_state=13)\n",
    "\n",
    "# 군집에 속한 데이터로 모델 학습\n",
    "rf_model.fit(X_train, y_train)\n",
    "\n",
    "# 테스트 데이터에 대한 예측\n",
    "predictions = rf_model.predict(X_test)\n",
    "\n",
    "# 회귀 모델의 성능 평가\n",
    "rf_mse = mean_squared_error(y_test, predictions)\n",
    "rf_mae = mean_absolute_error(y_test, predictions)\n",
    "rf_r2 = r2_score(y_test, predictions)\n",
    "\n",
    "model_result = pd.DataFrame({'MSE': [rf_mse], 'MAE': [rf_mae], 'R2': [rf_r2]}, index=['RandomForestRegressor'])"
   ]
  },
  {
   "cell_type": "code",
   "execution_count": 153,
   "metadata": {},
   "outputs": [
    {
     "name": "stdout",
     "output_type": "stream",
     "text": [
      "                           MSE       MAE        R2\n",
      "KNeighborsRegressor  18.940199  3.502001  0.818734\n"
     ]
    }
   ],
   "source": [
    "# KNeighborsRegressor 모델 초기화\n",
    "knn_model = KNeighborsRegressor()\n",
    "knn_model.fit(X_train, y_train)\n",
    "knn_predictions = knn_model.predict(X_test)\n",
    "\n",
    "# 회귀 모델의 성능 평가\n",
    "knn_mse = mean_squared_error(y_test, knn_predictions)\n",
    "knn_mae = mean_absolute_error(y_test, knn_predictions)\n",
    "knn_r2 = r2_score(y_test, knn_predictions)\n",
    "\n",
    "model_result = pd.DataFrame({'MSE': [knn_mse], 'MAE': [knn_mae], 'R2': [knn_r2]}, index=['KNeighborsRegressor'])\n",
    "print(model_result)"
   ]
  },
  {
   "cell_type": "code",
   "execution_count": 154,
   "metadata": {},
   "outputs": [
    {
     "name": "stdout",
     "output_type": "stream",
     "text": [
      "                    MSE       MAE        R2\n",
      "XGBRegressor  12.888833  2.659842  0.876648\n"
     ]
    }
   ],
   "source": [
    "# XGBRegressor 모델 초기화\n",
    "xgb_model = XGBRegressor(random_state=13)\n",
    "xgb_model.fit(X_train, y_train)\n",
    "xgb_predictions = xgb_model.predict(X_test)\n",
    "\n",
    "# 회귀 모델의 성능 평가\n",
    "xgb_mse = mean_squared_error(y_test, xgb_predictions)\n",
    "xgb_mae = mean_absolute_error(y_test, xgb_predictions)\n",
    "xgb_r2 = r2_score(y_test, xgb_predictions)\n",
    "\n",
    "model_result = pd.DataFrame({'MSE': [xgb_mse], 'MAE': [xgb_mae], 'R2': [xgb_r2]}, index=['XGBRegressor'])\n",
    "print(model_result)"
   ]
  },
  {
   "cell_type": "code",
   "execution_count": 155,
   "metadata": {},
   "outputs": [
    {
     "name": "stdout",
     "output_type": "stream",
     "text": [
      "                         MSE       MAE        R2\n",
      "AdaBoostRegressor  14.647986  2.890241  0.859812\n"
     ]
    }
   ],
   "source": [
    "# AdaBoostRegressor 모델 초기화\n",
    "ada_model = AdaBoostRegressor(random_state=13)\n",
    "ada_model.fit(X_train, y_train)\n",
    "ada_predictions = ada_model.predict(X_test)\n",
    "\n",
    "# 회귀 모델의 성능 평가\n",
    "ada_mse = mean_squared_error(y_test, ada_predictions)\n",
    "ada_mae = mean_absolute_error(y_test, ada_predictions)\n",
    "ada_r2 = r2_score(y_test, ada_predictions)\n",
    "\n",
    "model_result = pd.DataFrame({'MSE': [ada_mse], 'MAE': [ada_mae], 'R2': [ada_r2]}, index=['AdaBoostRegressor'])\n",
    "print(model_result)"
   ]
  },
  {
   "cell_type": "code",
   "execution_count": null,
   "metadata": {},
   "outputs": [],
   "source": [
    "# LGBMRegressor 모델 초기화\n",
    "lgbm_model = LGBMRegressor(random_state=13)\n",
    "lgbm_model.fit(X_train, y_train)\n",
    "lgbm_predictions = lgbm_model.predict(X_test)\n",
    "\n",
    "# 회귀 모델의 성능 평가\n",
    "lgbm_mse = mean_squared_error(y_test, lgbm_predictions)\n",
    "lgbm_mae = mean_absolute_error(y_test, lgbm_predictions)\n",
    "lgbm_r2 = r2_score(y_test, lgbm_predictions)\n",
    "\n",
    "model_result = pd.DataFrame({'MSE': [lgbm_mse], 'MAE': [lgbm_mae], 'R2': [lgbm_r2]}, index=['LGBMRegressor'])\n",
    "print(model_result)"
   ]
  },
  {
   "cell_type": "code",
   "execution_count": 157,
   "metadata": {},
   "outputs": [
    {
     "name": "stdout",
     "output_type": "stream",
     "text": [
      "                                MSE       MAE        R2\n",
      "GradientBoostingRegressor  9.941281  2.402485  0.904858\n"
     ]
    }
   ],
   "source": [
    "# GradientBoostingRegressor 모델 초기화\n",
    "gbr_model = GradientBoostingRegressor(random_state=13)\n",
    "gbr_model.fit(X_train, y_train)\n",
    "gbr_predictions = gbr_model.predict(X_test)\n",
    "\n",
    "# 회귀 모델의 성능 평가\n",
    "gbr_mse = mean_squared_error(y_test, gbr_predictions)\n",
    "gbr_mae = mean_absolute_error(y_test, gbr_predictions)\n",
    "gbr_r2 = r2_score(y_test, gbr_predictions)\n",
    "\n",
    "model_result = pd.DataFrame({'MSE': [gbr_mse], 'MAE': [gbr_mae], 'R2': [gbr_r2]}, index=['GradientBoostingRegressor'])\n",
    "print(model_result)"
   ]
  },
  {
   "cell_type": "code",
   "execution_count": 158,
   "metadata": {},
   "outputs": [],
   "source": [
    "# LinearRegression 모델 초기화\n",
    "lr_model = LinearRegression()\n",
    "lr_model.fit(X_train, y_train)\n",
    "lr_predictions = lr_model.predict(X_test)\n",
    "\n",
    "# LinearRegression 모델의 성능 평가\n",
    "lr_mse = mean_squared_error(y_test, lr_predictions)\n",
    "lr_mae = mean_absolute_error(y_test, lr_predictions)\n",
    "lr_r2 = r2_score(y_test, lr_predictions)\n",
    "\n",
    "model_result = pd.DataFrame({'MSE': [lr_mse], 'MAE': [lr_mae], 'R2': [lr_r2]}, index=['LinearRegression'])"
   ]
  },
  {
   "cell_type": "markdown",
   "metadata": {},
   "source": [
    "---"
   ]
  },
  {
   "cell_type": "markdown",
   "metadata": {},
   "source": [
    "## 02-2. 결과"
   ]
  },
  {
   "cell_type": "code",
   "execution_count": 159,
   "metadata": {},
   "outputs": [
    {
     "name": "stdout",
     "output_type": "stream",
     "text": [
      "                                 MSE       MAE        R2\n",
      "DecisionTreeRegressor      27.621992  3.875179  0.735646\n",
      "RandomForestRegressor      11.898751  2.507330  0.886124\n",
      "KNeighborsRegressor        18.940199  3.502001  0.818734\n",
      "XGBoostRegressor           12.888833  2.659842  0.876648\n",
      "AdaBoostRegressor          14.647986  2.890241  0.859812\n",
      "LightGBMRegressor          10.600179  2.497997  0.898552\n",
      "GradientBoostingRegressor   9.941281  2.402485  0.904858\n",
      "LinearRegression            9.598203  2.363427  0.908141\n"
     ]
    }
   ],
   "source": [
    "model_result = pd.DataFrame({\n",
    "    'MSE': [dt_mse, rf_mse, knn_mse, xgb_mse, ada_mse, lgbm_mse, gbr_mse, lr_mse],\n",
    "    'MAE': [dt_mae, rf_mae, knn_mae, xgb_mae, ada_mae, lgbm_mae, gbr_mae, lr_mae],\n",
    "    'R2': [dt_r2, rf_r2, knn_r2, xgb_r2, ada_r2, lgbm_r2, gbr_r2, lr_r2]\n",
    "}, index=['DecisionTreeRegressor', 'RandomForestRegressor', 'KNeighborsRegressor', 'XGBoostRegressor', 'AdaBoostRegressor', 'LightGBMRegressor', 'GradientBoostingRegressor', 'LinearRegression'])\n",
    "print(model_result)"
   ]
  },
  {
   "cell_type": "code",
   "execution_count": 160,
   "metadata": {},
   "outputs": [
    {
     "name": "stdout",
     "output_type": "stream",
     "text": [
      "MSE 기준\n",
      "                                 MSE       MAE        R2\n",
      "LinearRegression            9.598203  2.363427  0.908141\n",
      "GradientBoostingRegressor   9.941281  2.402485  0.904858\n",
      "LightGBMRegressor          10.600179  2.497997  0.898552\n",
      " \n",
      "MAE 기준\n",
      "                                 MSE       MAE        R2\n",
      "LinearRegression            9.598203  2.363427  0.908141\n",
      "GradientBoostingRegressor   9.941281  2.402485  0.904858\n",
      "LightGBMRegressor          10.600179  2.497997  0.898552\n",
      " \n",
      "R2 기준\n",
      "                                 MSE       MAE        R2\n",
      "LinearRegression            9.598203  2.363427  0.908141\n",
      "GradientBoostingRegressor   9.941281  2.402485  0.904858\n",
      "LightGBMRegressor          10.600179  2.497997  0.898552\n"
     ]
    }
   ],
   "source": [
    "# prompt: 제일 좋은 성능 두가지\n",
    "print(\"MSE 기준\")\n",
    "print(model_result.sort_values(by=['MSE'], ascending=True).head(3))\n",
    "print(\" \")\n",
    "\n",
    "print(\"MAE 기준\")\n",
    "print(model_result.sort_values(by=['MAE'], ascending=True).head(3))\n",
    "print(\" \")\n",
    "\n",
    "print(\"R2 기준\")\n",
    "print(model_result.sort_values(by=['R2'], ascending=False).head(3))"
   ]
  },
  {
   "cell_type": "markdown",
   "metadata": {},
   "source": [
    "---"
   ]
  },
  {
   "cell_type": "markdown",
   "metadata": {},
   "source": [
    "## cf. 다중선형회귀"
   ]
  },
  {
   "cell_type": "code",
   "execution_count": 161,
   "metadata": {},
   "outputs": [
    {
     "data": {
      "image/png": "[encoded data removed]",
      "text/plain": [
       "<Figure size 800x600 with 1 Axes>"
      ]
     },
     "metadata": {},
     "output_type": "display_data"
    }
   ],
   "source": [
    "# 모델의 계수를 구합니다.\n",
    "coefficients = lr_model.coef_\n",
    "feature_names = df.columns[:-1]  # 마지막 컬럼(Target)을 제외한 컬럼명 사용\n",
    "\n",
    "# 패러미터 플롯을 생성합니다.\n",
    "plt.figure(figsize=(8, 6))\n",
    "plt.bar(feature_names, coefficients)\n",
    "plt.xlabel('Features')\n",
    "plt.ylabel('Coefficients')\n",
    "plt.title('Coefficient Plot')\n",
    "plt.xticks(rotation=90)  # x축 레이블을 90도 회전\n",
    "plt.show()"
   ]
  },
  {
   "cell_type": "code",
   "execution_count": 162,
   "metadata": {},
   "outputs": [],
   "source": [
    "from sklearn.linear_model import LinearRegression\n",
    "import numpy as np\n",
    "\n",
    "# 중요 특성 선택\n",
    "X_important_features = df[['i_s1_rate_cnt', 's1_rate_retention','i_s1_rate']]  # 중요 특성 값들로 이루어진 데이터\n",
    "\n",
    "# 종속 변수 값\n",
    "y = df['score']\n",
    "\n",
    "# 데이터 분할\n",
    "X_train, X_test, y_train, y_test = train_test_split(X_important_features, y, test_size=0.2, random_state=42)\n",
    "\n",
    "# 모델 학습\n",
    "lr_model = LinearRegression()\n",
    "lr_model.fit(X_train, y_train)\n",
    "lr_predictions = lr_model.predict(X_test)\n",
    "\n",
    "# LinearRegression 모델의 성능 평가\n",
    "lr_mse = mean_squared_error(y_test, lr_predictions)\n",
    "lr_mae = mean_absolute_error(y_test, lr_predictions)\n",
    "lr_r2 = r2_score(y_test, lr_predictions)"
   ]
  },
  {
   "cell_type": "code",
   "execution_count": 163,
   "metadata": {},
   "outputs": [
    {
     "name": "stdout",
     "output_type": "stream",
     "text": [
      "                        MSE       MAE        R2\n",
      "LinearRegression  13.251991  2.849296  0.867353\n"
     ]
    }
   ],
   "source": [
    "model_result = pd.DataFrame({'MSE': [lr_mse], 'MAE': [lr_mae], 'R2': [lr_r2]}, index=['LinearRegression'])\n",
    "print(model_result)"
   ]
  }
 ],
 "metadata": {
  "kernelspec": {
   "display_name": "ds_study",
   "language": "python",
   "name": "python3"
  },
  "language_info": {
   "codemirror_mode": {
    "name": "ipython",
    "version": 3
   },
   "file_extension": ".py",
   "mimetype": "text/x-python",
   "name": "python",
   "nbconvert_exporter": "python",
   "pygments_lexer": "ipython3",
   "version": "3.8.18"
  }
 },
 "nbformat": 4,
 "nbformat_minor": 2
}
