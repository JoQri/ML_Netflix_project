{
 "cells": [
  {
   "cell_type": "markdown",
   "metadata": {},
   "source": [
    "# 4. Final version: GridSearchCV & Feature Selection (Backward Elimination)\n",
    "\n",
    "- 그리드서치CV를 이용한 최적의 하이퍼파라미터로 튜닝\n",
    "- 이후 각 모델마다 후진제거방법으로 피처 셀렉션"
   ]
  },
  {
   "cell_type": "markdown",
   "metadata": {},
   "source": [
    "## 01-1. import와 모델링 전 컬럼 전처리(이전 버전과 동일)"
   ]
  },
  {
   "cell_type": "code",
   "execution_count": 31,
   "metadata": {},
   "outputs": [],
   "source": [
    "# 모듈 불러오기\n",
    "import pandas as pd\n",
    "import numpy as np\n",
    "import re\n",
    "import ast\n",
    "\n",
    "import matplotlib.pyplot as plt\n",
    "import seaborn as sns\n",
    "%matplotlib inline\n",
    "import plotly.graph_objects as go\n",
    "from plotly.subplots import make_subplots\n",
    "from scipy import stats\n",
    "\n",
    "from sklearn.model_selection import train_test_split\n",
    "from sklearn.tree import plot_tree\n",
    "\n",
    "from model import *\n",
    "from sklearn.linear_model import LinearRegression\n",
    "\n",
    "from sklearn.model_selection import learning_curve"
   ]
  },
  {
   "cell_type": "code",
   "execution_count": 32,
   "metadata": {},
   "outputs": [
    {
     "name": "stdout",
     "output_type": "stream",
     "text": [
      "<class 'pandas.core.frame.DataFrame'>\n",
      "Index: 601 entries, 0 to 600\n",
      "Data columns (total 27 columns):\n",
      " #   Column                        Non-Null Count  Dtype  \n",
      "---  ------                        --------------  -----  \n",
      " 0   korean_title                  601 non-null    object \n",
      " 1   english_title                 601 non-null    object \n",
      " 2   year                          601 non-null    int64  \n",
      " 3   total_season_num              601 non-null    int64  \n",
      " 4   runtime                       601 non-null    int64  \n",
      " 5   genre                         601 non-null    object \n",
      " 6   age_rating                    601 non-null    int64  \n",
      " 7   production_country            601 non-null    object \n",
      " 8   PCA                           601 non-null    float64\n",
      " 9   genre_len                     601 non-null    int64  \n",
      " 10  production_country_freq_code  601 non-null    int64  \n",
      " 11  production_country_code       601 non-null    int64  \n",
      " 12  seson_n                       601 non-null    int64  \n",
      " 13  i_s1_rate                     601 non-null    float64\n",
      " 14  i_s1_rate_cnt                 601 non-null    float64\n",
      " 15  i_s2_rate                     601 non-null    float64\n",
      " 16  i_s2_rate_cnt                 601 non-null    float64\n",
      " 17  w_s1_rate                     601 non-null    float64\n",
      " 18  w_s1_rate_cnt                 601 non-null    int64  \n",
      " 19  w_s2_rate                     601 non-null    float64\n",
      " 20  w_s2_rate_cnt                 601 non-null    int64  \n",
      " 21  s1_rate_retention             601 non-null    float64\n",
      " 22  s1_rate_cnt_retention         601 non-null    float64\n",
      " 23  s2_rate_retention             601 non-null    float64\n",
      " 24  s2_rate_cnt_retention         601 non-null    float64\n",
      " 25  s1_gap_days                   601 non-null    int64  \n",
      " 26  season_gaps_days              601 non-null    int64  \n",
      "dtypes: float64(11), int64(12), object(4)\n",
      "memory usage: 131.5+ KB\n"
     ]
    }
   ],
   "source": [
    "# 데이터 불러오기\n",
    "df = pd.read_excel('../data/file/ml_all.xlsx', index_col=0)\n",
    "\n",
    "df.info()"
   ]
  },
  {
   "cell_type": "code",
   "execution_count": 33,
   "metadata": {},
   "outputs": [],
   "source": [
    "# 각 범주(나라)의 타겟 변수(여기서는 runtime의 평균) 계산\n",
    "country_means = df.groupby('production_country')['PCA'].mean()\n",
    "\n",
    "# 타겟 인코딩 적용\n",
    "df['production_country_encoded'] = df['production_country'].map(country_means)"
   ]
  },
  {
   "cell_type": "code",
   "execution_count": 34,
   "metadata": {},
   "outputs": [],
   "source": [
    "# 넷플릭스 장르 선호도 순위 리스트 (선호도 순서대로 정렬)\n",
    "genres = [\n",
    "    '드라마', '코미디', 'SF', '액션', '스릴러', '범죄', '공포', '로맨스', '판타지', '전쟁', '서부', '그 외'\n",
    "]\n",
    "\n",
    "# 각 장르에 점수를 선형적으로 할당하여 딕셔너리로 만들기\n",
    "genre_scores = {genre: 1 - i / (len(genres)) for i, genre in enumerate(genres)}\n",
    "\n",
    "# '그 외'에 해당되는 장르 리스트\n",
    "other_genres = ['역사', '가족', '음악', 'Made in Europe', '스포츠']\n",
    "\n",
    "# 장르 문자열을 받아서 점수를 계산하는 함수\n",
    "\n",
    "def get_genre_score(genre_str):\n",
    "    # 장르를 ', '로 분리\n",
    "    genre_list = genre_str.split(', ')\n",
    "    \n",
    "    # '그 외'에 포함된 하위 장르가 있는지 확인\n",
    "    for genre in genre_list:\n",
    "        if genre in other_genres:\n",
    "            return genre_scores['그 외']\n",
    "    \n",
    "    # 각 장르의 점수의 평균 계산\n",
    "    total_score = 0\n",
    "    count = 0\n",
    "    for genre in genre_list:\n",
    "        score = genre_scores.get(genre, genre_scores['그 외'])  # 없는 장르는 '그 외' 점수로 처리\n",
    "        total_score += score\n",
    "        count += 1\n",
    "    \n",
    "    # 평균 점수 계산\n",
    "    average_score = total_score / count if count > 0 else 0\n",
    "    return average_score\n",
    "\n",
    "# 장르별 점수\n",
    "df['genre'] = df['genre'].apply(get_genre_score)"
   ]
  },
  {
   "cell_type": "code",
   "execution_count": 35,
   "metadata": {},
   "outputs": [],
   "source": [
    "# 로그 변환 적용 \n",
    "\n",
    "df['i_s2_rate_cnt'] = np.log1p(df['i_s2_rate_cnt'])  # log(1+x) 변환 사용\n",
    "df['w_s2_rate_cnt'] = np.log1p(df['w_s2_rate_cnt'])\n",
    "df['s2_rate_cnt_retention'] = np.log1p(df['s2_rate_cnt_retention'])\n",
    "df['s1_gap_days'] = np.log1p(df['s1_gap_days'])\n",
    "df['age_rating'] = np.log1p(df['age_rating'])\n",
    "df['season_gaps_days'] = np.log1p(df['season_gaps_days'])\n",
    "df['i_s1_rate_cnt'] = np.log1p(df['i_s1_rate_cnt'])  # log(1+x) 변환 사용\n",
    "df['w_s1_rate_cnt'] = np.log1p(df['w_s1_rate_cnt'])\n",
    "df['s1_rate_cnt_retention'] = np.log1p(df['s1_rate_cnt_retention'])"
   ]
  },
  {
   "cell_type": "code",
   "execution_count": 36,
   "metadata": {},
   "outputs": [],
   "source": [
    "# y값(흥행도)\n",
    "\n",
    "# 각 요소 계산\n",
    "rate = (0.8 * df['i_s2_rate']) + (0.2 * df['w_s2_rate'])\n",
    "cnt = (0.8 * df['i_s2_rate_cnt']) + (0.2 * df['w_s2_rate_cnt'])\n",
    "ret = (0.4 * df['s2_rate_retention']) + (0.6 * df['s2_rate_cnt_retention'])\n",
    "\n",
    "# 총 점수 계산\n",
    "total = (0.3 * rate + 0.5 * cnt + 0.2 * ret) *10\n",
    "\n",
    "# 점수를 데이터프레임에 추가\n",
    "df['score'] = total"
   ]
  },
  {
   "cell_type": "markdown",
   "metadata": {},
   "source": [
    "---"
   ]
  },
  {
   "cell_type": "markdown",
   "metadata": {},
   "source": [
    "## 02-1. GridSearchCV('model.py'이용) 후 Feature Selection 모델링"
   ]
  },
  {
   "cell_type": "code",
   "execution_count": 37,
   "metadata": {},
   "outputs": [],
   "source": [
    "# 후진 제거 피처 셀렉션 함수\n",
    "def backward_elimination(model, X_train, y_train, X_test, y_test):\n",
    "    features = X_train.columns.tolist()\n",
    "    best_mse = mean_squared_error(y_test, model.fit(X_train, y_train).predict(X_test))\n",
    "    best_features = features.copy()\n",
    "\n",
    "    while len(best_features) > 0:\n",
    "        worst_feature = None\n",
    "        worst_mse = best_mse\n",
    "\n",
    "        for feature in best_features:\n",
    "            temp_features = best_features.copy()\n",
    "            temp_features.remove(feature)\n",
    "\n",
    "            X_train_temp = X_train[temp_features]\n",
    "            X_test_temp = X_test[temp_features]\n",
    "            model.fit(X_train_temp, y_train)\n",
    "            mse = mean_squared_error(y_test, model.predict(X_test_temp))\n",
    "\n",
    "            if mse < worst_mse:\n",
    "                worst_mse = mse\n",
    "                worst_feature = feature\n",
    "\n",
    "        if worst_feature is not None:\n",
    "            best_features.remove(worst_feature)\n",
    "            best_mse = worst_mse\n",
    "        else:\n",
    "            break\n",
    "\n",
    "    print(f\"Selected Features: {best_features}\")\n",
    "    print(\"=\" * 40)\n",
    "    return best_mse, best_features"
   ]
  },
  {
   "cell_type": "code",
   "execution_count": 38,
   "metadata": {},
   "outputs": [],
   "source": [
    "df_1 = df[['runtime','genre','age_rating','production_country_encoded','PCA','genre_len','seson_n','i_s1_rate','i_s1_rate_cnt','s1_rate_retention','s1_rate_cnt_retention','w_s1_rate','w_s1_rate_cnt','s1_gap_days','season_gaps_days','score']]"
   ]
  },
  {
   "cell_type": "code",
   "execution_count": 39,
   "metadata": {},
   "outputs": [],
   "source": [
    "X = df_1.drop(['score'], axis=1)  # 'score' 열을 제외한 모든 열 선택\n",
    "y = df_1['score']\n",
    "\n",
    "X_train, X_test, y_train, y_test = train_test_split(X, y, test_size=0.2, random_state=13)"
   ]
  },
  {
   "cell_type": "code",
   "execution_count": 40,
   "metadata": {},
   "outputs": [
    {
     "name": "stdout",
     "output_type": "stream",
     "text": [
      "Selected Features: ['age_rating', 'genre_len', 'seson_n', 'i_s1_rate', 'i_s1_rate_cnt', 's1_rate_retention', 's1_rate_cnt_retention', 'w_s1_rate_cnt', 's1_gap_days']\n",
      "========================================\n",
      "MAE: 2.1912676679257728\n",
      "MSE: 7.945078813151462\n",
      "R^2: 0.9082848800667569\n",
      "Best Parameters: {'max_depth': 7, 'min_samples_split': 25}\n"
     ]
    }
   ],
   "source": [
    "# DecisionTreeRegressor 모델과 파라미터 가져오기\n",
    "model_name = 'DecisionTreeRegressor'\n",
    "model, param_grid = models[model_name]\n",
    "\n",
    "# GridSearchCV를 사용하여 최적의 하이퍼파라미터를 찾습니다\n",
    "best_dt, best_params_dt = grid_search(X_train, y_train, model, param_grid)\n",
    "\n",
    "# 후진 제거 피처 셀렉션을 수행합니다\n",
    "best_mse, best_features = backward_elimination(best_dt, X_train, y_train, X_test, y_test)\n",
    "\n",
    "# 선택된 피처로 모델을 다시 훈련합니다\n",
    "best_dt.fit(X_train[best_features], y_train)\n",
    "\n",
    "# 최적의 모델을 평가합니다\n",
    "dt_mae, dt_mse, dt_r2 = evaluate(best_dt, X_test[best_features], y_test)\n",
    "print(f\"Best Parameters: {best_params_dt}\")"
   ]
  },
  {
   "cell_type": "code",
   "execution_count": 41,
   "metadata": {},
   "outputs": [
    {
     "name": "stdout",
     "output_type": "stream",
     "text": [
      "Selected Features: ['genre', 'production_country_encoded', 'genre_len', 'i_s1_rate', 'i_s1_rate_cnt', 's1_rate_cnt_retention', 'w_s1_rate', 'w_s1_rate_cnt', 's1_gap_days', 'season_gaps_days']\n",
      "========================================\n",
      "MAE: 1.4943579391044906\n",
      "MSE: 3.957952986601397\n",
      "R^2: 0.9543108203967209\n",
      "Best Parameters: {'max_depth': 10, 'min_samples_split': 10, 'n_estimators': 350}\n"
     ]
    }
   ],
   "source": [
    "# RandomForestRegressor 모델과 파라미터 가져오기\n",
    "model_name = 'RandomForestRegressor'\n",
    "model, param_grid = models[model_name]\n",
    "\n",
    "# GridSearchCV를 사용하여 최적의 하이퍼파라미터를 찾습니다\n",
    "best_rf, best_params_rf = grid_search(X_train, y_train, model, param_grid)\n",
    "\n",
    "# 후진 제거 피처 셀렉션을 수행합니다\n",
    "best_mse, best_features = backward_elimination(best_rf, X_train, y_train, X_test, y_test)\n",
    "\n",
    "# 선택된 피처로 모델을 다시 훈련합니다\n",
    "best_rf.fit(X_train[best_features], y_train)\n",
    "\n",
    "# 최적의 모델을 평가합니다\n",
    "rf_mae, rf_mse , rf_r2 = evaluate(best_rf, X_test[best_features], y_test)\n",
    "print(f\"Best Parameters: {best_params_rf}\")"
   ]
  },
  {
   "cell_type": "code",
   "execution_count": 42,
   "metadata": {},
   "outputs": [
    {
     "name": "stdout",
     "output_type": "stream",
     "text": [
      "Selected Features: ['genre', 'i_s1_rate', 'i_s1_rate_cnt', 's1_rate_retention', 'w_s1_rate', 'w_s1_rate_cnt', 'season_gaps_days']\n",
      "========================================\n",
      "MAE: 1.5705341844883782\n",
      "MSE: 3.9160220087988042\n",
      "R^2: 0.954794856458354\n",
      "Best Parameters: {'n_neighbors': 5, 'weights': 'distance'}\n"
     ]
    }
   ],
   "source": [
    "# KNeighborsRegressor 모델과 파라미터 가져오기\n",
    "model_name = 'KNeighborsRegressor'\n",
    "model, param_grid = models[model_name]\n",
    "\n",
    "# GridSearchCV를 사용하여 최적의 하이퍼파라미터를 찾습니다\n",
    "best_knn, best_params_knn = grid_search(X_train, y_train, model, param_grid)\n",
    "\n",
    "# 후진 제거 피처 셀렉션을 수행합니다\n",
    "best_mse, best_features = backward_elimination(best_knn, X_train, y_train, X_test, y_test)\n",
    "\n",
    "# 선택된 피처로 모델을 다시 훈련합니다\n",
    "best_knn.fit(X_train[best_features], y_train)\n",
    "\n",
    "# 최적의 모델을 평가합니다\n",
    "knn_mae, knn_mse , knn_r2 =evaluate(best_knn, X_test[best_features], y_test)\n",
    "print(f\"Best Parameters: {best_params_knn}\")"
   ]
  },
  {
   "cell_type": "code",
   "execution_count": 43,
   "metadata": {},
   "outputs": [
    {
     "name": "stdout",
     "output_type": "stream",
     "text": [
      "Selected Features: ['genre', 'production_country_encoded', 'PCA', 'genre_len', 'i_s1_rate', 'i_s1_rate_cnt', 's1_rate_cnt_retention', 'w_s1_rate', 'w_s1_rate_cnt', 's1_gap_days', 'season_gaps_days']\n",
      "========================================\n",
      "MAE: 1.3926498661704696\n",
      "MSE: 3.296098246009696\n",
      "R^2: 0.961951032449907\n",
      "Best Parameters: {'learning_rate': 0.1, 'max_depth': 3, 'n_estimators': 100}\n"
     ]
    }
   ],
   "source": [
    "# XGBRegressor 모델과 파라미터 가져오기\n",
    "model_name = 'XGBRegressor'\n",
    "model, param_grid = models[model_name]\n",
    "\n",
    "# GridSearchCV를 사용하여 최적의 하이퍼파라미터를 찾습니다\n",
    "best_xgb, best_params_xgb = grid_search(X_train, y_train, model, param_grid)\n",
    "\n",
    "# 후진 제거 피처 셀렉션을 수행합니다\n",
    "best_mse, best_features = backward_elimination(best_xgb, X_train, y_train, X_test, y_test)\n",
    "\n",
    "# 선택된 피처로 모델을 다시 훈련합니다\n",
    "best_xgb.fit(X_train[best_features], y_train)\n",
    "\n",
    "# 최적의 모델을 평가합니다\n",
    "xgb_mae, xgb_mse, xgb_r2 = evaluate(best_xgb, X_test[best_features], y_test)\n",
    "print(f\"Best Parameters: {best_params_xgb}\")"
   ]
  },
  {
   "cell_type": "code",
   "execution_count": 44,
   "metadata": {},
   "outputs": [
    {
     "name": "stdout",
     "output_type": "stream",
     "text": [
      "Selected Features: ['runtime', 'genre', 'age_rating', 'production_country_encoded', 'genre_len', 'seson_n', 'i_s1_rate', 'i_s1_rate_cnt', 's1_rate_retention', 's1_rate_cnt_retention', 'w_s1_rate', 'w_s1_rate_cnt', 's1_gap_days']\n",
      "========================================\n",
      "MAE: 1.915260398377656\n",
      "MSE: 5.894957520172797\n",
      "R^2: 0.931950739737273\n",
      "Best Parameters: {'learning_rate': 0.2, 'n_estimators': 200}\n"
     ]
    }
   ],
   "source": [
    "# AdaBoostRegressor 모델과 파라미터 가져오기\n",
    "model_name = 'AdaBoostRegressor'\n",
    "model, param_grid = models[model_name]\n",
    "\n",
    "# GridSearchCV를 사용하여 최적의 하이퍼파라미터를 찾습니다\n",
    "best_ada, best_params_ada = grid_search(X_train, y_train, model, param_grid)\n",
    "\n",
    "# 후진 제거 피처 셀렉션을 수행합니다\n",
    "best_mse, best_features = backward_elimination(best_ada, X_train, y_train, X_test, y_test)\n",
    "\n",
    "# 선택된 피처로 모델을 다시 훈련합니다\n",
    "best_ada.fit(X_train[best_features], y_train)\n",
    "\n",
    "# 최적의 모델을 평가합니다\n",
    "ada_mae, ada_mse, ada_r2 = evaluate(best_ada, X_test[best_features], y_test)\n",
    "print(f\"Best Parameters: {best_params_ada}\")"
   ]
  },
  {
   "cell_type": "code",
   "execution_count": null,
   "metadata": {},
   "outputs": [],
   "source": [
    "# LGBMRegressor 모델과 파라미터 가져오기\n",
    "model_name = 'LGBMRegressor'\n",
    "model, param_grid = models[model_name]\n",
    "\n",
    "# GridSearchCV를 사용하여 최적의 하이퍼파라미터를 찾습니다\n",
    "best_lgb, best_params_lgb = grid_search(X_train, y_train, model, param_grid)\n",
    "\n",
    "# 후진 제거 피처 셀렉션을 수행합니다\n",
    "best_mse, best_features = backward_elimination(best_lgb, X_train, y_train, X_test, y_test)\n",
    "\n",
    "# 선택된 피처로 모델을 다시 훈련합니다\n",
    "best_lgb.fit(X_train[best_features], y_train)\n",
    "\n",
    "# 최적의 모델을 평가합니다\n",
    "lgb_mae, lgb_mse, lgb_r2 = evaluate(best_lgb, X_test[best_features], y_test)"
   ]
  },
  {
   "cell_type": "code",
   "execution_count": 46,
   "metadata": {},
   "outputs": [
    {
     "name": "stdout",
     "output_type": "stream",
     "text": [
      "Best Parameters: {'learning_rate': 0.05, 'max_depth': 3, 'n_estimators': 200}\n"
     ]
    }
   ],
   "source": [
    "print(f\"Best Parameters: {best_params_lgb}\")"
   ]
  },
  {
   "cell_type": "code",
   "execution_count": 47,
   "metadata": {},
   "outputs": [
    {
     "name": "stdout",
     "output_type": "stream",
     "text": [
      "Selected Features: ['runtime', 'genre', 'age_rating', 'production_country_encoded', 'genre_len', 'i_s1_rate', 'i_s1_rate_cnt', 's1_rate_cnt_retention', 'w_s1_rate', 'w_s1_rate_cnt', 's1_gap_days', 'season_gaps_days']\n",
      "========================================\n",
      "MAE: 1.3363325573448606\n",
      "MSE: 2.9968706287950004\n",
      "R^2: 0.965405207977374\n",
      "Best Parameters: {'learning_rate': 0.05, 'max_depth': 3, 'n_estimators': 200}\n"
     ]
    }
   ],
   "source": [
    "# GradientBoostingRegressor 모델과 파라미터 가져오기\n",
    "model_name = 'GradientBoostingRegressor'\n",
    "model, param_grid = models[model_name]\n",
    "\n",
    "# GridSearchCV를 사용하여 최적의 하이퍼파라미터를 찾습니다\n",
    "best_gbr, best_params_gbr = grid_search(X_train, y_train, model, param_grid)\n",
    "\n",
    "# 후진 제거 피처 셀렉션을 수행합니다\n",
    "best_mse, best_features = backward_elimination(best_gbr, X_train, y_train, X_test, y_test)\n",
    "\n",
    "# 선택된 피처로 모델을 다시 훈련합니다\n",
    "best_gbr.fit(X_train[best_features], y_train)\n",
    "\n",
    "# 최적의 모델을 평가합니다\n",
    "gbr_mae, gbr_mse, gbr_r2 = evaluate(best_gbr, X_test[best_features], y_test)\n",
    "print(f\"Best Parameters: {best_params_gbr}\")"
   ]
  },
  {
   "cell_type": "code",
   "execution_count": 48,
   "metadata": {},
   "outputs": [
    {
     "name": "stdout",
     "output_type": "stream",
     "text": [
      "{'runtime': 0.00023629364979239962, 'genre': 0.0017547140008093277, 'age_rating': 5.3052897926232635e-05, 'production_country_encoded': 0.004175244102065223, 'genre_len': 0.0005475415288776067, 'i_s1_rate': 0.03137565608395648, 'i_s1_rate_cnt': 0.8446974871288873, 's1_rate_cnt_retention': 0.002653289147969724, 'w_s1_rate': 0.0219480064029687, 'w_s1_rate_cnt': 0.08676889904872125, 's1_gap_days': 0.0033187274940088625, 'season_gaps_days': 0.002471088514017228}\n"
     ]
    },
    {
     "data": {
      "image/png": "[encoded data removed]",
      "text/plain": [
       "<Figure size 800x800 with 1 Axes>"
      ]
     },
     "metadata": {},
     "output_type": "display_data"
    }
   ],
   "source": [
    "# 특성 중요도 확인\n",
    "feature_importances_gbr = best_gbr.feature_importances_\n",
    "importances_dict_gbr = dict(zip(X_train[best_features], feature_importances_gbr))\n",
    "print(importances_dict_gbr)\n",
    "\n",
    "# 중요도가 높은 상위 8개의 컬럼 선택\n",
    "best_cols_gbr = pd.Series(feature_importances_gbr, index=X_train[best_features].columns)\n",
    "top_cols_gbr = best_cols_gbr.sort_values(ascending=False)[:8]\n",
    "\n",
    "# 시각화\n",
    "plt.figure(figsize=(8, 8))\n",
    "sns.barplot(x=top_cols_gbr, y=top_cols_gbr.index)\n",
    "plt.xlabel('Feature Importance')\n",
    "plt.ylabel('Feature')\n",
    "plt.title('Top 8 Feature Importances (GradientBoostingRegressor)')\n",
    "plt.show()"
   ]
  },
  {
   "cell_type": "code",
   "execution_count": 49,
   "metadata": {},
   "outputs": [
    {
     "name": "stdout",
     "output_type": "stream",
     "text": [
      "Selected Features: ['runtime', 'genre', 'age_rating', 'production_country_encoded', 'seson_n', 'i_s1_rate', 'i_s1_rate_cnt', 's1_rate_cnt_retention', 'w_s1_rate', 'w_s1_rate_cnt', 's1_gap_days', 'season_gaps_days']\n",
      "========================================\n",
      "LinearRegression 모델 성능 평가:\n",
      "MSE: 2.7881908681324785\n",
      "MAE: 1.3026580418006124\n",
      "R^2: 0.9678141317560938\n",
      "Selected Features: ['runtime', 'genre', 'age_rating', 'production_country_encoded', 'seson_n', 'i_s1_rate', 'i_s1_rate_cnt', 's1_rate_cnt_retention', 'w_s1_rate', 'w_s1_rate_cnt', 's1_gap_days', 'season_gaps_days']\n"
     ]
    }
   ],
   "source": [
    "# LinearRegression 모델에 대해 후진 제거 피처 셀렉션 수행\n",
    "best_mse_lr, best_features_lr = backward_elimination(LinearRegression(), X_train, y_train, X_test, y_test)\n",
    "\n",
    "# 선택된 특성들로 LinearRegression 모델 학습 및 평가\n",
    "X_train_selected_lr = X_train[best_features_lr]\n",
    "X_test_selected_lr = X_test[best_features_lr]\n",
    "\n",
    "lr_model = LinearRegression()\n",
    "lr_model.fit(X_train_selected_lr, y_train)\n",
    "y_pred_lr = lr_model.predict(X_test_selected_lr)\n",
    "\n",
    "lr_mse = mean_squared_error(y_test, y_pred_lr)\n",
    "lr_mae = mean_absolute_error(y_test, y_pred_lr)\n",
    "lr_r2 = r2_score(y_test, y_pred_lr)\n",
    "\n",
    "print(\"LinearRegression 모델 성능 평가:\")\n",
    "print(f\"MSE: {lr_mse}\")\n",
    "print(f\"MAE: {lr_mae}\")\n",
    "print(f\"R^2: {lr_r2}\")\n",
    "print(f\"Selected Features: {best_features_lr}\")"
   ]
  },
  {
   "cell_type": "markdown",
   "metadata": {},
   "source": [
    "## 02-2 최종 모델링 결과"
   ]
  },
  {
   "cell_type": "code",
   "execution_count": 50,
   "metadata": {},
   "outputs": [
    {
     "name": "stdout",
     "output_type": "stream",
     "text": [
      "                                MSE       MAE        R2\n",
      "DecisionTreeRegressor      7.945079  2.191268  0.908285\n",
      "RandomForestRegressor      3.957953  1.494358  0.954311\n",
      "KNeighborsRegressor        3.916022  1.570534  0.954795\n",
      "XGBoostRegressor           3.296098  1.392650  0.961951\n",
      "AdaBoostRegressor          5.894958  1.915260  0.931951\n",
      "LightGBMRegressor          3.220567  1.398810  0.962823\n",
      "GradientBoostingRegressor  2.996871  1.336333  0.965405\n",
      "LinearRegression           2.788191  1.302658  0.967814\n"
     ]
    }
   ],
   "source": [
    "model_result = pd.DataFrame({\n",
    "    'MSE': [dt_mse, rf_mse, knn_mse, xgb_mse, ada_mse, lgb_mse, gbr_mse, lr_mse],\n",
    "    'MAE': [dt_mae, rf_mae, knn_mae, xgb_mae, ada_mae, lgb_mae, gbr_mae, lr_mae],\n",
    "    'R2': [dt_r2, rf_r2, knn_r2, xgb_r2, ada_r2, lgb_r2, gbr_r2, lr_r2]\n",
    "}, index=['DecisionTreeRegressor', 'RandomForestRegressor', 'KNeighborsRegressor', 'XGBoostRegressor', 'AdaBoostRegressor', 'LightGBMRegressor', 'GradientBoostingRegressor', 'LinearRegression'])\n",
    "print(model_result)"
   ]
  },
  {
   "cell_type": "code",
   "execution_count": 51,
   "metadata": {},
   "outputs": [
    {
     "name": "stdout",
     "output_type": "stream",
     "text": [
      "MSE 기준\n",
      "                                MSE       MAE        R2\n",
      "LinearRegression           2.788191  1.302658  0.967814\n",
      "GradientBoostingRegressor  2.996871  1.336333  0.965405\n",
      "LightGBMRegressor          3.220567  1.398810  0.962823\n",
      " \n",
      "MAE 기준\n",
      "                                MSE       MAE        R2\n",
      "LinearRegression           2.788191  1.302658  0.967814\n",
      "GradientBoostingRegressor  2.996871  1.336333  0.965405\n",
      "XGBoostRegressor           3.296098  1.392650  0.961951\n",
      " \n",
      "R2 기준\n",
      "                                MSE       MAE        R2\n",
      "LinearRegression           2.788191  1.302658  0.967814\n",
      "GradientBoostingRegressor  2.996871  1.336333  0.965405\n",
      "LightGBMRegressor          3.220567  1.398810  0.962823\n"
     ]
    }
   ],
   "source": [
    "# prompt: 제일 좋은 성능 두가지\n",
    "print(\"MSE 기준\")\n",
    "print(model_result.sort_values(by=['MSE'], ascending=True).head(3))\n",
    "print(\" \")\n",
    "\n",
    "print(\"MAE 기준\")\n",
    "print(model_result.sort_values(by=['MAE'], ascending=True).head(3))\n",
    "print(\" \")\n",
    "\n",
    "print(\"R2 기준\")\n",
    "print(model_result.sort_values(by=['R2'], ascending=False).head(3))"
   ]
  },
  {
   "cell_type": "markdown",
   "metadata": {},
   "source": [
    "----"
   ]
  }
 ],
 "metadata": {
  "kernelspec": {
   "display_name": "ds_study",
   "language": "python",
   "name": "python3"
  },
  "language_info": {
   "codemirror_mode": {
    "name": "ipython",
    "version": 3
   },
   "file_extension": ".py",
   "mimetype": "text/x-python",
   "name": "python",
   "nbconvert_exporter": "python",
   "pygments_lexer": "ipython3",
   "version": "3.8.18"
  }
 },
 "nbformat": 4,
 "nbformat_minor": 2
}
